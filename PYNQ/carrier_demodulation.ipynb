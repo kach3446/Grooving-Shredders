{
 "cells": [
  {
   "cell_type": "code",
   "execution_count": 156,
   "id": "0e57e889-ef43-4b46-8462-24f2d4d7c5d4",
   "metadata": {},
   "outputs": [],
   "source": [
    "# Initialization\n",
    "\n",
    "# Load base overlay\n",
    "from pynq.overlays.base import BaseOverlay\n",
    "\n",
    "# Import libraries\n",
    "import numpy as np\n",
    "import scipy.signal as signal\n",
    "import matplotlib.pyplot as plt\n",
    "import plotly.graph_objs as go\n",
    "from plotly.subplots import make_subplots\n",
    "import numpy as np\n",
    "import ipywidgets as ipw\n",
    "\n",
    "# Initialize the RFSoC overlay\n",
    "base = BaseOverlay('base.bit')\n",
    "\n",
    "# Start RF clocks\n",
    "base.init_rf_clks()\n",
    "\n",
    "# Channels\n",
    "ADC_CHANNEL_D = 0\n",
    "ADC_CHANNEL_C = 1\n",
    "ADC_CHANNEL_B = 2\n",
    "ADC_CHANNEL_A = 3"
   ]
  },
  {
   "cell_type": "code",
   "execution_count": 157,
   "id": "6be67afe-2da7-4508-9fe0-00d4f8a30c41",
   "metadata": {},
   "outputs": [],
   "source": [
    "# Function to plot real and imaginary data in time domain\n",
    "def plot_complex_time(data, n, fs=sample_frequency, \n",
    "                      title='Complex Time Plot'):\n",
    "    plt_re_temp = (go.Scatter(x = np.arange(0, n/fs, 1/fs),\n",
    "                              y = np.real(data), name='Real'))\n",
    "    plt_im_temp = (go.Scatter(x = np.arange(0, n/fs, 1/fs),\n",
    "                              y = np.imag(data), name='Imag'))\n",
    "    return go.FigureWidget(data = [plt_re_temp, plt_im_temp],\n",
    "                           layout = {'title': title, \n",
    "                                     'xaxis': {\n",
    "                                         'title': 'Seconds (s)',\n",
    "                                         'autorange' : True},\n",
    "                                     'yaxis': {\n",
    "                                         'title': 'Amplitude (V)'}})\n",
    "\n",
    "# Functions\n",
    "# Function to convert integer to binary array\n",
    "def int_to_binary_array(num, num_bits):\n",
    "    return np.array(list(format(num, f'0{num_bits}b')), dtype=int)\n",
    "\n",
    "# Function to convert binary array to integer\n",
    "def binary_array_to_int(binary_array):\n",
    "    return int(''.join(map(str, binary_array)), 2)"
   ]
  },
  {
   "cell_type": "code",
   "execution_count": 158,
   "id": "08b5356f-653b-4167-887c-f61639d41597",
   "metadata": {},
   "outputs": [],
   "source": [
    "# View configurable settings of ADCs\n",
    "# help(base.radio.receiver.channel[0].adc_block.MixerSettings)\n",
    "# help(base.radio.receiver.channel[0].adc_tile)\n",
    "# print(base.radio.receiver.channel[ADC_D_channel].adc_block.MixerSettings.keys())"
   ]
  },
  {
   "cell_type": "code",
   "execution_count": 159,
   "id": "36155231-d7b3-4602-be95-e528145661e2",
   "metadata": {},
   "outputs": [],
   "source": [
    "# Set the center frequency and sampling frequency\n",
    "center_frequency = 1.24e9  # Frequency of incoming signal\n",
    "sample_frequency = 2500e6  # Should be at least 2x the center frequency\n",
    "downsample_factor = 2  # Choose how much to decimate by i.e '2' decimates 2x\n",
    "number_samples = 8208  # Between 16 and 32xxx\n",
    "\n",
    "# Set mixer frequency to center frequency to demodulate carrier frequency\n",
    "base.radio.receiver.channel[ADC_CHANNEL_D].adc_block.MixerSettings['Freq'] = 1240 # MHz\n",
    "base.radio.receiver.channel[ADC_CHANNEL_C].adc_block.MixerSettings['Freq'] = 1240 # MHz\n",
    "base.radio.receiver.channel[ADC_CHANNEL_B].adc_block.MixerSettings['Freq'] = 1240 # MHz\n",
    "base.radio.receiver.channel[ADC_CHANNEL_A].adc_block.MixerSettings['Freq'] = 1240 # MHz"
   ]
  },
  {
   "cell_type": "code",
   "execution_count": 160,
   "id": "06f44535-65d5-4cfb-9987-4e66455dda64",
   "metadata": {},
   "outputs": [
    {
     "name": "stdout",
     "output_type": "stream",
     "text": [
      "[-0.00018311-3.05175781e-04j -0.00012207+3.66210938e-04j\n",
      "  0.00018311-3.05175781e-05j ... -0.00036621-2.13623047e-04j\n",
      " -0.00042725+1.83105469e-04j -0.00042725-2.74658203e-04j]\n"
     ]
    }
   ],
   "source": [
    "# Sample\n",
    "raw_data = []  # Storage for incoming I and Q data\n",
    "for i in range(0, len(base.radio.receiver.channel)):\n",
    "    raw_data.append(base.radio.receiver.channel[i].transfer(number_samples))\n",
    "print(raw_data[ADC_CHANNEL_D])"
   ]
  },
  {
   "cell_type": "code",
   "execution_count": 161,
   "id": "6c500f53-6fde-4e9e-9da5-293694f3ae43",
   "metadata": {},
   "outputs": [
    {
     "data": {
      "application/vnd.jupyter.widget-view+json": {
       "model_id": "b912085fb8ae4210b79bbe5496852809",
       "version_major": 2,
       "version_minor": 0
      },
      "text/plain": [
       "VBox(children=(FigureWidget({\n",
       "    'data': [{'name': 'Real',\n",
       "              'type': 'scatter',\n",
       "              'ui…"
      ]
     },
     "metadata": {},
     "output_type": "display_data"
    }
   ],
   "source": [
    "# Plotting raw data in the time domain\n",
    "figs = [] # Storage for ADC time domain plots\n",
    "\n",
    "# Add plots to figs\n",
    "for i in range(0, len(base.radio.receiver.channel)): # Show all plots\n",
    "#for i in range(0, ADC_CHANNEL_D+1): # Show only ADC D\n",
    "    figs.append(plot_complex_time(\n",
    "        data=raw_data[i], \n",
    "        n=number_samples,\n",
    "        title=''.join(['Time Domain Plot of ADC Channel ', str(i), ' Before Downconversion'])))\n",
    "    \n",
    "# plot ADC real and imaginary time domain data\n",
    "ipw.VBox(figs) # Only show ADC D"
   ]
  },
  {
   "cell_type": "code",
   "execution_count": 162,
   "id": "69295d86-a704-40ad-bdbb-af4a443394ef",
   "metadata": {},
   "outputs": [
    {
     "name": "stdout",
     "output_type": "stream",
     "text": [
      "[array([-1.77761831e-04-3.06688352e-04j, -5.67366435e-05+1.27182422e-04j,\n",
      "        1.68553619e-04-2.31830404e-04j, ...,\n",
      "        1.64149204e-04+1.29892266e-04j, -1.36560299e-04+3.60161527e-04j,\n",
      "       -3.68629544e-04-9.57737167e-05j]), array([ 0.00066664+6.13035101e-04j, -0.00013478-2.90870051e-04j,\n",
      "       -0.00019507-6.60018325e-06j, ..., -0.00037817-1.40733097e-04j,\n",
      "       -0.00022597+3.66497925e-04j, -0.0001445 +2.81466050e-04j]), array([-3.03610452e-04+9.36733496e-05j, -1.70016458e-04-1.92711945e-04j,\n",
      "        8.11936090e-05-2.07104960e-04j, ...,\n",
      "        7.46223242e-05+1.06599781e-05j,  3.64751076e-04+1.35148883e-04j,\n",
      "        2.12059821e-04-5.39277693e-05j]), array([-5.44229394e-04-3.09358554e-04j,  7.79388158e-05-3.95298548e-06j,\n",
      "        9.99450237e-05-7.18249843e-05j, ...,\n",
      "        2.20253705e-04-2.65572136e-04j,  2.20214246e-04+2.16421604e-04j,\n",
      "        1.85996668e-04+3.50217394e-04j])]\n"
     ]
    }
   ],
   "source": [
    "# Downconvert\n",
    "downconverted_data = []  # Storage for downconverted data\n",
    "for i in range(0, len(base.radio.receiver.channel)):\n",
    "    downconverted_data.append(signal.decimate(raw_data[i], downsample_factor))\n",
    "number_samples = number_samples / downsample_factor\n",
    "print(downconverted_data)"
   ]
  },
  {
   "cell_type": "code",
   "execution_count": 163,
   "id": "1bb549b6-d4c0-43a5-b95a-5869c4584313",
   "metadata": {},
   "outputs": [
    {
     "data": {
      "application/vnd.jupyter.widget-view+json": {
       "model_id": "070705204aaa47c3803527d71a87b676",
       "version_major": 2,
       "version_minor": 0
      },
      "text/plain": [
       "VBox(children=(FigureWidget({\n",
       "    'data': [{'name': 'Real',\n",
       "              'type': 'scatter',\n",
       "              'ui…"
      ]
     },
     "metadata": {},
     "output_type": "display_data"
    }
   ],
   "source": [
    "# Plotting downconverted data in the time domain\n",
    "figs = [] # Storage for ADC time domain plots\n",
    "\n",
    "for i in range(0, len(base.radio.receiver.channel)): # Show all plots\n",
    "# for i in range(0, ADC_CHANNEL_D+1): # Show only ADC D\n",
    "    figs.append(plot_complex_time(\n",
    "        data=downconverted_data[i],\n",
    "        n=number_samples,\n",
    "        title=''.join(['Time Domain Plot of ADC Channel ', str(i), ' After Downconversion'])))\n",
    "    \n",
    "# plot ADC real and imaginary time domain data\n",
    "ipw.VBox(figs) # Only show ADC D "
   ]
  },
  {
   "cell_type": "code",
   "execution_count": null,
   "id": "d9f8e154-1962-459d-9246-8f9ad7e9050d",
   "metadata": {
    "jupyter": {
     "source_hidden": true
    },
    "tags": []
   },
   "outputs": [],
   "source": [
    "window = np.array(np.blackman(number_samples)[:])\n",
    "# print(\"window:\", window)\n",
    "# print(\"cdata:\", cdata[0])\n",
    "\n",
    "# downsample_window = np.array(np.blackman(number_samples/downsample_factor)[:])\n",
    "# print(\"window:\", window)\n",
    "# print(\"cdata:\", cdata[0])\n",
    "\n",
    "wdata = []\n",
    "wfigs = []\n",
    "wdata.append(cdata[0]*window)\n",
    "# print(\"wdata:\", wdata[0])\n",
    "# wfigs.append(plot_complex_time(\n",
    "#         data=wdata[0], \n",
    "#         title=''.join(['Windowed Plot of ADC Channel ', str(2), ' Before Downconversion'])))\n",
    "\n",
    "# wdata.append(downsampled_signal*downsample_window)\n",
    "# wfigs.append(plot_complex_time(\n",
    "#         data=wdata[1], \n",
    "#         title=''.join(['Windowed Plot of ADC Channel ', str(2), ' After Downconversion'])))\n",
    "\n",
    "# ipw.VBox(wfigs)"
   ]
  },
  {
   "cell_type": "code",
   "execution_count": null,
   "id": "ec63b63b-c872-4a1e-a4c6-6f6c0fd9262c",
   "metadata": {
    "jupyter": {
     "source_hidden": true
    },
    "tags": []
   },
   "outputs": [],
   "source": [
    "fdata = []\n",
    "for i in range(0, len(wdata)):\n",
    "    fdata.append(np.fft.fftshift(np.fft.fft(wdata[i])))"
   ]
  },
  {
   "cell_type": "code",
   "execution_count": null,
   "id": "f7a2584d-3116-42ba-9fd4-ee312577d59a",
   "metadata": {
    "jupyter": {
     "source_hidden": true
    },
    "tags": []
   },
   "outputs": [],
   "source": [
    "def plot_complex_spectrum(data, N=number_samples, fs=sample_frequency, \n",
    "                          title='Complex Spectrum Plot', units='dBW', fc=0):\n",
    "    plt_temp = (go.Scatter(x = np.arange(-fs/2, fs/2, fs/N) + fc,\n",
    "                           y = data, name='Spectrum'))\n",
    "    return go.FigureWidget(data = plt_temp,\n",
    "                           layout = {'title': title, \n",
    "                                     'xaxis': {\n",
    "                                         'title': 'Frequency (Hz)',\n",
    "                                         'autorange': True},\n",
    "                                     'yaxis': {\n",
    "                                         'title': units}})\n",
    "\n",
    "magfigs = []\n",
    "for i in range(0, len(fdata)):\n",
    "    magfigs.append(plot_complex_spectrum(\n",
    "            data=abs(fdata[i]),\n",
    "            title=''.join(['Frequency Magnitude Plot of ADC Channel ', str(i)]),\n",
    "            units='|Y(f)|',\n",
    "            fc=round(abs(base.radio.receiver.channel[i].adc_block.MixerSettings['Freq']))*1e6))\n",
    "\n",
    "ipw.VBox(magfigs)"
   ]
  },
  {
   "cell_type": "code",
   "execution_count": null,
   "id": "05ab574f-f988-4480-854f-d2cf367191ba",
   "metadata": {},
   "outputs": [],
   "source": []
  }
 ],
 "metadata": {
  "kernelspec": {
   "display_name": "Python 3 (ipykernel)",
   "language": "python",
   "name": "python3"
  },
  "language_info": {
   "codemirror_mode": {
    "name": "ipython",
    "version": 3
   },
   "file_extension": ".py",
   "mimetype": "text/x-python",
   "name": "python",
   "nbconvert_exporter": "python",
   "pygments_lexer": "ipython3",
   "version": "3.10.4"
  }
 },
 "nbformat": 4,
 "nbformat_minor": 5
}
