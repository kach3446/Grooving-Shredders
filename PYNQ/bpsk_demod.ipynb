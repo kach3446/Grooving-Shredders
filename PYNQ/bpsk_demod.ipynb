{
 "cells": [
  {
   "cell_type": "code",
   "execution_count": 20,
   "id": "81f27a7c-7ae8-4672-a44f-47934b9a9387",
   "metadata": {},
   "outputs": [],
   "source": [
    "from pynq.overlays.base import BaseOverlay\n",
    "\n",
    "import numpy as np\n",
    "import scipy.signal as signal\n",
    "import matplotlib.pyplot as plt\n",
    "import plotly.graph_objs as go\n",
    "from plotly.subplots import make_subplots\n",
    "import numpy as np\n",
    "import ipywidgets as ipw\n",
    "\n",
    "# Initialize the RFSoC overlay\n",
    "base = BaseOverlay('base.bit')\n",
    "\n",
    "base.init_rf_clks()\n",
    "\n",
    "base.radio.transmitter.channel[0].dac_block.MixerSettings['Freq'] = 1240 # MHz\n",
    "\n",
    "base.radio.transmitter.channel[0].control.gain = 0.5\n",
    "base.radio.transmitter.channel[0].control.enable = True\n",
    "\n",
    "\n",
    "\n",
    "number_samples = 220\n",
    "cdata = []\n",
    "cdata.append(base.radio.receiver.channel[2].transfer(number_samples))\n",
    "\n",
    "sample_frequency = 2500e6 #Hz\n",
    "figs = []"
   ]
  },
  {
   "cell_type": "code",
   "execution_count": 21,
   "id": "e0b6e98f-b21d-444f-8d32-255eaf2a3fbd",
   "metadata": {},
   "outputs": [],
   "source": [
    "import plotly.graph_objs as go\n",
    "import numpy as np\n",
    "import ipywidgets as ipw\n",
    "\n",
    "def plot_complex_time(data, n=number_samples, fs=sample_frequency, \n",
    "                      title='Complex Time Plot'):\n",
    "    plt_re_temp = (go.Scatter(x = np.arange(0, n/fs, 1/fs),\n",
    "                              y = np.real(data), name='Real'))\n",
    "    plt_im_temp = (go.Scatter(x = np.arange(0, n/fs, 1/fs),\n",
    "                              y = np.imag(data), name='Imag'))\n",
    "    return go.FigureWidget(data = [plt_re_temp, plt_im_temp],\n",
    "                           layout = {'title': title, \n",
    "                                     'xaxis': {\n",
    "                                         'title': 'Seconds (s)',\n",
    "                                         'autorange' : True},\n",
    "                                     'yaxis': {\n",
    "                                         'title': 'Amplitude (V)'}})"
   ]
  },
  {
   "cell_type": "code",
   "execution_count": 22,
   "id": "bc530652-9c48-4b38-b4ac-9f1676b32c46",
   "metadata": {},
   "outputs": [],
   "source": [
    "tfigs = []\n",
    "\n",
    "tfigs.append(plot_complex_time(\n",
    "        data=cdata[0], \n",
    "        title=''.join(['Time Domain Plot of ADC Channel ', str(2), ' Before Downconversion'])))"
   ]
  },
  {
   "cell_type": "code",
   "execution_count": 23,
   "id": "4b7907d6-fe94-4dd9-b69e-3c8606a288cc",
   "metadata": {},
   "outputs": [],
   "source": [
    "# Downconvert\n",
    "# Get rid of samples from cdata[0] so we only have one sample per period\n",
    "downsample_factor = 20  # Adjust as needed\n",
    "downsampled_signal = signal.decimate(cdata[0], downsample_factor)"
   ]
  },
  {
   "cell_type": "code",
   "execution_count": 24,
   "id": "17965538-6e0e-46fb-90f6-24044a36de43",
   "metadata": {},
   "outputs": [
    {
     "data": {
      "application/vnd.jupyter.widget-view+json": {
       "model_id": "9078ee1cd9c14e57b3dd20a5a500d6b3",
       "version_major": 2,
       "version_minor": 0
      },
      "text/plain": [
       "VBox(children=(FigureWidget({\n",
       "    'data': [{'name': 'Real',\n",
       "              'type': 'scatter',\n",
       "              'ui…"
      ]
     },
     "metadata": {},
     "output_type": "display_data"
    }
   ],
   "source": [
    "tfigs.append(plot_complex_time(\n",
    "        data=downsampled_signal, \n",
    "        title=''.join(['Time Domain Plot of ADC Channel ', str(2), ' After DownConversion'])))\n",
    "\n",
    "ipw.VBox(tfigs)"
   ]
  },
  {
   "cell_type": "code",
   "execution_count": 25,
   "id": "2edf443b-5aed-4979-b6c4-26b8d260057e",
   "metadata": {},
   "outputs": [
    {
     "data": {
      "application/vnd.jupyter.widget-view+json": {
       "model_id": "04cd85d93dbd45b6905d4020e21a8f30",
       "version_major": 2,
       "version_minor": 0
      },
      "text/plain": [
       "VBox(children=(FigureWidget({\n",
       "    'data': [{'name': 'Real',\n",
       "              'type': 'scatter',\n",
       "              'ui…"
      ]
     },
     "metadata": {},
     "output_type": "display_data"
    }
   ],
   "source": [
    "window = np.array(np.blackman(number_samples)[:])\n",
    "# print(\"window:\", window)\n",
    "# print(\"cdata:\", cdata[0])\n",
    "\n",
    "downsample_window = np.array(np.blackman(number_samples/downsample_factor)[:])\n",
    "# print(\"window:\", window)\n",
    "# print(\"cdata:\", cdata[0])\n",
    "\n",
    "wdata = []\n",
    "wfigs = []\n",
    "wdata.append(cdata[0]*window)\n",
    "# print(\"wdata:\", wdata[0])\n",
    "wfigs.append(plot_complex_time(\n",
    "        data=wdata[0], \n",
    "        title=''.join(['Windowed Plot of ADC Channel ', str(2), ' Before Downconversion'])))\n",
    "\n",
    "wdata.append(downsampled_signal*downsample_window)\n",
    "wfigs.append(plot_complex_time(\n",
    "        data=wdata[1], \n",
    "        title=''.join(['Windowed Plot of ADC Channel ', str(2), ' After Downconversion'])))\n",
    "\n",
    "ipw.VBox(wfigs)"
   ]
  },
  {
   "cell_type": "code",
   "execution_count": 26,
   "id": "68d956ca-ffb6-401b-a2c1-a7960beaed2b",
   "metadata": {},
   "outputs": [
    {
     "data": {
      "application/vnd.jupyter.widget-view+json": {
       "model_id": "2b73bbed5d374018acef5fcaf90a3eed",
       "version_major": 2,
       "version_minor": 0
      },
      "text/plain": [
       "VBox(children=(FigureWidget({\n",
       "    'data': [{'name': 'Real',\n",
       "              'type': 'scatter',\n",
       "              'ui…"
      ]
     },
     "metadata": {},
     "output_type": "display_data"
    }
   ],
   "source": [
    "# Filter the signal (low-pass filter) NOT WORKING\n",
    "filtered_signal = np.convolve(downsampled_signal, np.ones(int(sample_frequency * T))/sample_frequency, mode='valid')\n",
    "ffigs = []\n",
    "ffigs.append(plot_complex_time(\n",
    "        data=filtered_signal, \n",
    "        title=''.join(['Time Domain Plot of ADC Channel ', str(2), ' After Filtering & Downconversion'])))\n",
    "\n",
    "ipw.VBox(ffigs)"
   ]
  },
  {
   "cell_type": "code",
   "execution_count": 27,
   "id": "3270c2cd-b6b5-40ea-ba3a-34203e6f3241",
   "metadata": {},
   "outputs": [],
   "source": [
    "fdata = []\n",
    "for i in range(0, len(wdata)):\n",
    "    fdata.append(np.fft.fftshift(np.fft.fft(wdata[i])))"
   ]
  },
  {
   "cell_type": "code",
   "execution_count": 28,
   "id": "d3129d93-3a1c-4147-8d50-5d612ab327ec",
   "metadata": {},
   "outputs": [
    {
     "data": {
      "application/vnd.jupyter.widget-view+json": {
       "model_id": "baafc86a66a44bc6956766dc7aa92985",
       "version_major": 2,
       "version_minor": 0
      },
      "text/plain": [
       "VBox(children=(FigureWidget({\n",
       "    'data': [{'name': 'Spectrum',\n",
       "              'type': 'scatter',\n",
       "             …"
      ]
     },
     "metadata": {},
     "output_type": "display_data"
    }
   ],
   "source": [
    "def plot_complex_spectrum(data, N=number_samples, fs=sample_frequency, \n",
    "                          title='Complex Spectrum Plot', units='dBW', fc=0):\n",
    "    plt_temp = (go.Scatter(x = np.arange(-fs/2, fs/2, fs/N) + fc,\n",
    "                           y = data, name='Spectrum'))\n",
    "    return go.FigureWidget(data = plt_temp,\n",
    "                           layout = {'title': title, \n",
    "                                     'xaxis': {\n",
    "                                         'title': 'Frequency (Hz)',\n",
    "                                         'autorange': True},\n",
    "                                     'yaxis': {\n",
    "                                         'title': units}})\n",
    "\n",
    "magfigs = []\n",
    "for i in range(0, len(fdata)):\n",
    "    magfigs.append(plot_complex_spectrum(\n",
    "            data=abs(fdata[i]),\n",
    "            title=''.join(['Frequency Magnitude Plot of ADC Channel ', str(i+2)]),\n",
    "            units='|Y(f)|',\n",
    "            fc=round(abs(base.radio.receiver.channel[0].adc_block.MixerSettings['Freq']))*1e6))\n",
    "\n",
    "ipw.VBox(magfigs)"
   ]
  },
  {
   "cell_type": "code",
   "execution_count": 30,
   "id": "040d4d41-22b8-477d-8ad6-db3492163fea",
   "metadata": {},
   "outputs": [
    {
     "name": "stdout",
     "output_type": "stream",
     "text": [
      "Length of decoded binary: 11\n",
      "Decoded binary: [0 0 0 0 0 0 0 1 1 0 0]\n",
      "Received hex: 0xc\n"
     ]
    },
    {
     "data": {
      "image/png": "[encoded data removed]",
      "text/plain": [
       "<Figure size 864x576 with 2 Axes>"
      ]
     },
     "metadata": {
      "needs_background": "light"
     },
     "output_type": "display_data"
    }
   ],
   "source": [
    "# Parameters\n",
    "fs = sample_frequency # Sampling frequency\n",
    "fc = 1240e6 # Carrier frequency\n",
    "T = 70e-9   # Symbol duration (seconds)\n",
    "bits_per_symbol = 1\n",
    "\n",
    "t_dem = np.arange(0, (bits_per_symbol * T), T/11)\n",
    "\n",
    "# Display signal before downconversion\n",
    "\n",
    "\n",
    "\n",
    "\n",
    "# Display signal after downconversion\n",
    "plt.figure(figsize=(12, 8))\n",
    "plt.subplot(3, 1, 1)\n",
    "plt.plot(t_dem, downsampled_signal.imag)\n",
    "plt.title('Signal after downconversion')\n",
    "\n",
    "# BPSK Demodulation\n",
    "\n",
    "# print(\"t_dem:\", t_dem)\n",
    "# print(np.size(t_dem))\n",
    "pre_demodulation_signal = downsampled_signal.imag * np.cos(2 * np.pi * fc * t_dem)\n",
    "# print(\"Demodulated_signal:\", demodulated_signal)\n",
    "\n",
    "# Display demodulated signal before filtering\n",
    "# plt.figure(figsize=(12, 8))\n",
    "# plt.subplot(3, 1, 1)\n",
    "# plt.plot(t_dem, demodulated_signal)\n",
    "# plt.title('Downconverted signal (Before Filtering)')\n",
    "\n",
    "\n",
    "\n",
    "# Display demodulated signal after filtering\n",
    "# plt.figure(figsize=(12, 8))\n",
    "# plt.subplot(3, 1, 2)\n",
    "# plt.plot(t_dem, demodulated_signal_filtered)\n",
    "# plt.title('BPSK Demodulated Signal (After Filtering)')\n",
    "\n",
    "# Decision Threshold (assuming perfect synchronization)\n",
    "threshold = 0\n",
    "binary_decoded = (pre_demodulation_signal > threshold).astype(int)\n",
    "\n",
    "# Plot the demodulated binary signal\n",
    "plt.subplot(3, 1, 2)\n",
    "plt.plot(t_dem[:len(binary_decoded)], binary_decoded, 'ro-', drawstyle='steps-pre')\n",
    "plt.title('Demodulated Binary Data (Decoded)')\n",
    "\n",
    "# Convert binary data to hex for display\n",
    "hex_received = hex(int(''.join(map(str, binary_decoded)), 2))\n",
    "\n",
    "# Print hex values\n",
    "\n",
    "print(\"Length of decoded binary:\", len(binary_decoded))\n",
    "print(\"Decoded binary:\", binary_decoded)\n",
    "print(\"Received hex:\", hex_received)\n",
    "\n",
    "# message = ''\n",
    "# message2 = ''\n",
    "# i = int(len(binary_decoded) // (bits_per_symbol * 2))\n",
    "# while i < len(binary_decoded):\n",
    "#     message += str(binary_decoded[i])\n",
    "#     if str(binary_decoded[i]) == '1':\n",
    "#         message2 += '0'\n",
    "#     else:\n",
    "#         message2 += '1'\n",
    "#     i += (len(binary_decoded) // bits_per_symbol)\n",
    "    \n",
    "#print(message)\n",
    "#print(message2)\n",
    "\n",
    "\n",
    "\n",
    "plt.tight_layout()\n",
    "plt.show()\n"
   ]
  },
  {
   "cell_type": "code",
   "execution_count": 14,
   "id": "2d8f4577-223d-42d0-bb7f-f94a64dc2792",
   "metadata": {},
   "outputs": [
    {
     "data": {
      "image/png": "[encoded data removed]",
      "text/plain": [
       "<Figure size 432x288 with 1 Axes>"
      ]
     },
     "metadata": {
      "needs_background": "light"
     },
     "output_type": "display_data"
    }
   ],
   "source": [
    "# Downsample the received signal\n",
    "downsample_factor = 4  # Adjust as needed\n",
    "downsampled_signal = signal.decimate(cdata, downsample_factor)\n",
    "\n",
    "# BPSK demodulation\n",
    "symbol_duration = 1e-6  # Example: 1 microsecond\n",
    "symbol_samples = int(symbol_duration * sample_frequency)\n",
    "symbol_indices = np.arange(0, len(downsampled_signal), symbol_samples)\n",
    "\n",
    "# Extract symbols\n",
    "symbols = downsampled_signal[symbol_indices]\n",
    "\n",
    "# BPSK demodulation: multiply with a locally generated carrier\n",
    "carrier_frequency = 10e6  # Example: 10 MHz\n",
    "carrier = np.exp(1j * 2 * np.pi * carrier_frequency * np.arange(len(symbols)) / sample_frequency)\n",
    "\n",
    "demodulated_symbols = symbols * carrier\n",
    "\n",
    "# Plot the demodulated symbols\n",
    "plt.plot(np.real(demodulated_symbols), np.imag(demodulated_symbols), 'o')\n",
    "plt.title('BPSK Demodulated Symbols')\n",
    "plt.xlabel('In-Phase')\n",
    "plt.ylabel('Quadrature')\n",
    "plt.show()"
   ]
  },
  {
   "cell_type": "code",
   "execution_count": null,
   "id": "3edc837f-24ab-4af8-a7d2-d6a8b921740e",
   "metadata": {},
   "outputs": [
    {
     "name": "stdout",
     "output_type": "stream",
     "text": [
      "1\n",
      "Transmitted (hex): 0xf06f\n",
      "Received (hex): [0]\n",
      "1\n"
     ]
    }
   ],
   "source": [
    "from pynq.overlays.base import BaseOverlay\n",
    "import numpy as np\n",
    "import scipy.signal as signal\n",
    "import matplotlib.pyplot as plt\n",
    "\n",
    "# Parameters\n",
    "fs = 1000  # Sampling frequency\n",
    "fc = 10  # Carrier frequency\n",
    "T = 1  # Symbol duration (seconds)\n",
    "bits_per_symbol = 16\n",
    "\n",
    "# Initialize the RFSoC overlay\n",
    "base = BaseOverlay('base.bit')\n",
    "base.init_rf_clks()\n",
    "\n",
    "# base.radio.transmitter.channel[0].dac_block.\n",
    "\n",
    "# # Set the RF transmitter frequency to 1200 MHz\n",
    "# base.radio.transmitter.channel[0].dac_block.MixerSettings['Freq'] = 1200\n",
    "# base.radio.transmitter.channel[0].dac_block.QMCSettings\n",
    "\n",
    "# # Configure the transmitter to a known gain and enable it\n",
    "# base.radio.transmitter.channel[0].control.gain = 0.5\n",
    "# base.radio.transmitter.channel[0].control.enable = True\n",
    "\n",
    "# Generate binary data (0s and 1s)\n",
    "binary_data = np.random.randint(2, size=bits_per_symbol)\n",
    "\n",
    "# BPSK Modulation\n",
    "t_mod = np.arange(0, T, 1/fs)\n",
    "repeated_binary_data = np.repeat(binary_data, int(np.ceil(len(t_mod) / len(binary_data))))\n",
    "modulated_signal = np.sqrt(2/T) * np.cos(2 * np.pi * fc * t_mod + np.pi * repeated_binary_data[:len(t_mod)])\n",
    "\n",
    "# Transmit the modulated signal\n",
    "# base.radio.transmitter.channel[0].send(modulated_signal)\n",
    "\n",
    "# Receive the transmitted signal\n",
    "received_signal = base.radio.receiver.channel[2].transfer(len(modulated_signal))\n",
    "\n",
    "# BPSK Demodulation\n",
    "demodulated_signal = received_signal * np.sqrt(2/T) * np.cos(2 * np.pi * fc * t_mod + np.pi)\n",
    "demodulated_signal_filtered = np.convolve(demodulated_signal, np.ones(int(fs * T))/fs, mode='valid')\n",
    "# Decision Threshold (assuming perfect synchronization)\n",
    "threshold = 0\n",
    "binary_decoded = (demodulated_signal_filtered > threshold).astype(int)\n",
    "print(len(binary_decoded))\n",
    "# Convert binary data to hex for display\n",
    "hex_received = hex(int(''.join(map(str, binary_decoded)), 2))\n",
    "hex_transmitted = hex(int(''.join(map(str, binary_data)), 2))\n",
    "# Print hex values\n",
    "print(\"Transmitted (hex):\", hex_transmitted)\n",
    "print(\"Received (hex):\", binary_decoded)\n",
    "print(len(binary_decoded))\n",
    "message = ''\n",
    "message2 = ''\n",
    "i = int(len(binary_decoded) // (bits_per_symbol * 2))\n",
    "while i < len(binary_decoded):\n",
    "    message += str(binary_decoded[i])\n",
    "    if str(binary_decoded[i]) == '1':\n",
    "        message2 += '0'\n",
    "    else:\n",
    "        message2 += '1'\n",
    "    i += (len(binary_decoded) // bits_per_symbol)\n",
    "    \n",
    "print(message)\n",
    "print(message2)\n",
    "# Binarize the demodulated signal\n",
    "decoded_data = (demodulated_signal_filtered > 0).astype(int)\n",
    "\n",
    "# Calculate the bit error rate (BER)\n",
    "ber = np.sum(np.abs(binary_data - decoded_data)) / len(binary_data)\n",
    "\n",
    "# # Print the bit error rate\n",
    "# print(f\"Bit Error Rate (BER): {ber}\")\n",
    "\n",
    "# #Plot the transmitted and received signals\n",
    "# plt.figure(figsize=(12, 6))\n",
    "# plt.subplot(2, 1, 1)\n",
    "# plt.plot(t_mod, np.real(modulated_signal), label='Transmitted Signal (I)')\n",
    "# plt.title(\"Transmitted BPSK Signal\")\n",
    "# plt.legend()\n",
    "\n",
    "# plt.subplot(2, 1, 2)\n",
    "# plt.plot(t_mod, np.real(demodulated_signal_filtered), label='Received Signal (I)')\n",
    "# plt.title(\"Received and Demodulated BPSK Signal\")\n",
    "# plt.legend()\n",
    "\n",
    "# plt.tight_layout()\n",
    "# plt.show()"
   ]
  },
  {
   "cell_type": "code",
   "execution_count": null,
   "id": "f24e29d0-948a-47da-bc66-e8c035232189",
   "metadata": {},
   "outputs": [],
   "source": [
    "import ipywidgets as ipw\n",
    "from rfsystem.spectrum_sweep import SpectrumAnalyser\n",
    "\n",
    "analysers = []\n",
    "sample_frequency = 2457.6e6\n",
    "number_samples = 12288\n",
    "for i in [2,3]:\n",
    "    analysers.append(\n",
    "        SpectrumAnalyser(channel = base.radio.receiver.channel[i],\n",
    "                         sample_frequency = sample_frequency,\n",
    "                         number_samples = number_samples,\n",
    "                         title = ''.join(['Spectrum Analyser Channel ',\n",
    "                                          str(i)]),\n",
    "         MixerSettings               height = None,\n",
    "                         width = None))\n",
    "\n",
    "ipw.VBox([analyser.spectrum_plot.get_plot() for analyser in analysers])"
   ]
  },
  {
   "cell_type": "code",
   "execution_count": null,
   "id": "59cf7878-77be-481c-a200-fb757bae89a8",
   "metadata": {},
   "outputs": [],
   "source": [
    "hex_len = len(hex_received)"
   ]
  },
  {
   "cell_type": "code",
   "execution_count": 63,
   "id": "beabba21-318a-47fe-a1bb-2d86f1377e9a",
   "metadata": {},
   "outputs": [
    {
     "name": "stdout",
     "output_type": "stream",
     "text": [
      "f\n",
      "f\n",
      "0\n",
      "0\n",
      "1100\n"
     ]
    }
   ],
   "source": [
    "# Example usage:\n",
    "received_bits = '';\n",
    "j = int(hex_len/8)\n",
    "while j < len(hex_received):\n",
    "    print(hex_received[j])\n",
    "    if hex_received[j] == '0':\n",
    "        received_bits += '0'\n",
    "    else:\n",
    "        \n",
    "        received_bits += '1'\n",
    "    j += int(hex_len/4)\n",
    "    \n",
    "    \n",
    "print(received_bits)\n"
   ]
  },
  {
   "cell_type": "code",
   "execution_count": 32,
   "id": "251ba0d3-4104-48e7-9351-ed915b6b323c",
   "metadata": {},
   "outputs": [
    {
     "name": "stdout",
     "output_type": "stream",
     "text": [
      "Transmitted (hex): 0xef66\n",
      "Received (hex): 0x1\n",
      "1\n"
     ]
    },
    {
     "ename": "KeyboardInterrupt",
     "evalue": "",
     "output_type": "error",
     "traceback": [
      "\u001b[0;31m---------------------------------------------------------------------------\u001b[0m",
      "\u001b[0;31mKeyboardInterrupt\u001b[0m                         Traceback (most recent call last)",
      "Input \u001b[0;32mIn [32]\u001b[0m, in \u001b[0;36m<cell line: 65>\u001b[0;34m()\u001b[0m\n\u001b[1;32m     63\u001b[0m message2 \u001b[38;5;241m=\u001b[39m \u001b[38;5;124m'\u001b[39m\u001b[38;5;124m'\u001b[39m\n\u001b[1;32m     64\u001b[0m i \u001b[38;5;241m=\u001b[39m \u001b[38;5;28mint\u001b[39m(\u001b[38;5;28mlen\u001b[39m(binary_decoded) \u001b[38;5;241m/\u001b[39m\u001b[38;5;241m/\u001b[39m (bits_per_symbol \u001b[38;5;241m*\u001b[39m \u001b[38;5;241m2\u001b[39m))\n\u001b[0;32m---> 65\u001b[0m \u001b[38;5;28;01mwhile\u001b[39;00m i \u001b[38;5;241m<\u001b[39m \u001b[38;5;28;43mlen\u001b[39;49m\u001b[43m(\u001b[49m\u001b[43mbinary_decoded\u001b[49m\u001b[43m)\u001b[49m:\n\u001b[1;32m     66\u001b[0m     message \u001b[38;5;241m+\u001b[39m\u001b[38;5;241m=\u001b[39m \u001b[38;5;28mstr\u001b[39m(binary_decoded[i])\n\u001b[1;32m     67\u001b[0m     \u001b[38;5;28;01mif\u001b[39;00m \u001b[38;5;28mstr\u001b[39m(binary_decoded[i]) \u001b[38;5;241m==\u001b[39m \u001b[38;5;124m'\u001b[39m\u001b[38;5;124m1\u001b[39m\u001b[38;5;124m'\u001b[39m:\n",
      "\u001b[0;31mKeyboardInterrupt\u001b[0m: "
     ]
    }
   ],
   "source": [
    "from pynq.overlays.base import BaseOverlay\n",
    "import numpy as np\n",
    "import scipy.signal as signal\n",
    "import matplotlib.pyplot as plt\n",
    "\n",
    "# Parameters\n",
    "fs = 1000  # Sampling frequency\n",
    "fc = 10  # Carrier frequency\n",
    "T = 1  # Symbol duration (seconds)\n",
    "bits_per_symbol = 16\n",
    "\n",
    "# Initialize the RFSoC overlay\n",
    "base = BaseOverlay('base.bit')\n",
    "base.init_rf_clks()\n",
    "\n",
    "# Set the RF transmitter frequency to 1200 MHz\n",
    "base.radio.transmitter.channel[0].dac_block.MixerSettings['Freq'] = 1200\n",
    "base.radio.transmitter.channel[0].dac_block.QMCSettings\n",
    "\n",
    "# Configure the transmitter to a known gain and enable it\n",
    "base.radio.transmitter.channel[0].control.gain = 0.5\n",
    "base.radio.transmitter.channel[0].control.enable = True\n",
    "\n",
    "# Generate binary data (0s and 1s)\n",
    "binary_data = np.random.randint(2, size=bits_per_symbol)\n",
    "\n",
    "# BPSK Modulation\n",
    "t_mod = np.arange(0, T, 1/fs)\n",
    "repeated_binary_data = np.repeat(binary_data, int(np.ceil(len(t_mod) / len(binary_data))))\n",
    "modulated_signal = np.sqrt(2/T) * np.cos(2 * np.pi * fc * t_mod + np.pi * repeated_binary_data[:len(t_mod)])\n",
    "\n",
    "# Transmit the modulated signal by enabling the control\n",
    "# (The actual transmission will happen automatically)\n",
    "# base.radio.transmitter.channel[0].send(modulated_signal)\n",
    "\n",
    "# Sleep for a duration equal to the transmission time\n",
    "# (This is just for the sake of this example; you might need to adjust this based on your system)\n",
    "import time\n",
    "time.sleep(T * bits_per_symbol)\n",
    "\n",
    "# Disable the transmitter after transmission is complete\n",
    "base.radio.transmitter.channel[0].control.enable = False\n",
    "\n",
    "# Receive the transmitted signal\n",
    "received_signal = base.radio.receiver.channel[2].transfer(len(modulated_signal))\n",
    "\n",
    "# Now, you can proceed with demodulation and other processing...\n",
    "# BPSK Demodulation\n",
    "demodulated_signal = received_signal * np.sqrt(2/T) * np.cos(2 * np.pi * fc * t_mod + np.pi)\n",
    "demodulated_signal_filtered = np.convolve(demodulated_signal, np.ones(int(fs * T))/fs, mode='valid')\n",
    "# Decision Threshold (assuming perfect synchronization)\n",
    "threshold = 0\n",
    "binary_decoded = (demodulated_signal_filtered > threshold).astype(int)\n",
    "\n",
    "# Convert binary data to hex for display\n",
    "hex_received = hex(int(''.join(map(str, binary_decoded)), 2))\n",
    "hex_transmitted = hex(int(''.join(map(str, binary_data)), 2))\n",
    "# Print hex values\n",
    "print(\"Transmitted (hex):\", hex_transmitted)\n",
    "print(\"Received (hex):\", hex_received)\n",
    "print(len(binary_decoded))\n",
    "message = ''\n",
    "message2 = ''\n",
    "i = int(len(binary_decoded) // (bits_per_symbol * 2))\n",
    "while i < len(binary_decoded):\n",
    "    message += str(binary_decoded[i])\n",
    "    if str(binary_decoded[i]) == '1':\n",
    "        message2 += '0'\n",
    "    else:\n",
    "        message2 += '1'\n",
    "    i += (len(binary_decoded) // bits_per_symbol)\n",
    "    \n",
    "print(message)\n",
    "print(message2)\n",
    "# Binarize the demodulated signal\n",
    "decoded_data = (demodulated_signal_filtered > 0).astype(int)\n",
    "\n",
    "# Calculate the bit error rate (BER)\n",
    "ber = np.sum(np.abs(binary_data - decoded_data)) / len(binary_data)\n",
    "\n",
    "# # Print the bit error rate\n",
    "print(f\"Bit Error Rate (BER): {ber}\")\n",
    "\n",
    "# Plot the transmitted and received signals\n",
    "plt.figure(figsize=(12, 6))\n",
    "plt.subplot(2, 1, 1)\n",
    "plt.plot(t_mod, np.real(modulated_signal), label='Transmitted Signal (I)')\n",
    "plt.title(\"Transmitted BPSK Signal\")\n",
    "plt.legend()\n",
    "\n",
    "plt.subplot(2, 1, 2)\n",
    "# Plot the received and demodulated signal if applicable\n",
    "plt.plot(t_mod[:len(demodulated_signal_filtered)], np.real(demodulated_signal_filtered), label='Received Signal (I)')\n",
    "plt.title(\"Received and Demodulated BPSK Signal\")\n",
    "plt.legend()\n",
    "\n",
    "plt.tight_layout()\n",
    "plt.show()\n"
   ]
  },
  {
   "cell_type": "code",
   "execution_count": 33,
   "id": "917a6099-746f-4359-8f89-a0065ea904a1",
   "metadata": {},
   "outputs": [
    {
     "data": {
      "image/png": "[encoded data removed]",
      "text/plain": [
       "<Figure size 432x288 with 1 Axes>"
      ]
     },
     "metadata": {
      "needs_background": "light"
     },
     "output_type": "display_data"
    }
   ],
   "source": [
    "import numpy as np\n",
    "import scipy.signal as signal\n",
    "import matplotlib.pyplot as plt\n",
    "import plotly.graph_objs as go\n",
    "from plotly.subplots import make_subplots\n",
    "import ipywidgets as ipw\n",
    "from pynq.overlays.base import BaseOverlay\n",
    "\n",
    "# Initialize the RFSoC overlay\n",
    "base = BaseOverlay('base.bit')\n",
    "base.init_rf_clks()\n",
    "\n",
    "# Parameters\n",
    "sample_frequency = 1000.6e6\n",
    "number_samples = 4096\n",
    "\n",
    "# Capture data from the ADC channel\n",
    "cdata = base.radio.receiver.channel[2].transfer(number_samples)\n",
    "\n",
    "# Downsample the received signal\n",
    "downsample_factor = 4  # Adjust as needed\n",
    "downsampled_signal = signal.decimate(cdata, downsample_factor)\n",
    "\n",
    "# BPSK demodulation\n",
    "symbol_duration = 1e-6  # Example: 1 microsecond\n",
    "symbol_samples = int(symbol_duration * sample_frequency)\n",
    "symbol_indices = np.arange(0, len(downsampled_signal), symbol_samples)\n",
    "\n",
    "# Extract symbols\n",
    "symbols = downsampled_signal[symbol_indices]\n",
    "\n",
    "# BPSK demodulation: multiply with a locally generated carrier\n",
    "carrier_frequency = 10e6  # Example: 10 MHz\n",
    "carrier = np.exp(1j * 2 * np.pi * carrier_frequency * np.arange(len(symbols)) / sample_frequency)\n",
    "\n",
    "demodulated_symbols = symbols * carrier\n",
    "\n",
    "# Plot the demodulated symbols\n",
    "plt.plot(np.real(demodulated_symbols), np.imag(demodulated_symbols), 'o')\n",
    "plt.title('BPSK Demodulated Symbols')\n",
    "plt.xlabel('In-Phase')\n",
    "plt.ylabel('Quadrature')\n",
    "plt.show()\n"
   ]
  },
  {
   "cell_type": "code",
   "execution_count": null,
   "id": "97513414-b800-4dbb-aa5d-b66dbc3fa119",
   "metadata": {},
   "outputs": [],
   "source": []
  }
 ],
 "metadata": {
  "kernelspec": {
   "display_name": "Python 3 (ipykernel)",
   "language": "python",
   "name": "python3"
  },
  "language_info": {
   "codemirror_mode": {
    "name": "ipython",
    "version": 3
   },
   "file_extension": ".py",
   "mimetype": "text/x-python",
   "name": "python",
   "nbconvert_exporter": "python",
   "pygments_lexer": "ipython3",
   "version": "3.10.4"
  }
 },
 "nbformat": 4,
 "nbformat_minor": 5
}
