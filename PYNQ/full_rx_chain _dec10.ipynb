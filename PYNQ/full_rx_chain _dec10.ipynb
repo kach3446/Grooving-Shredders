{
 "cells": [
  {
   "cell_type": "markdown",
   "id": "61d72821-e1a4-4a6c-9f8b-a4905c7f9fd2",
   "metadata": {},
   "source": [
    "# Imports"
   ]
  },
  {
   "cell_type": "code",
   "execution_count": 143,
   "id": "0e57e889-ef43-4b46-8462-24f2d4d7c5d4",
   "metadata": {
    "tags": []
   },
   "outputs": [],
   "source": [
    "# Imports\n",
    "import numpy as np\n",
    "import scipy.signal as signal\n",
    "import matplotlib.pyplot as plt\n",
    "import plotly.graph_objs as go\n",
    "from plotly.subplots import make_subplots\n",
    "import numpy as np\n",
    "import ipywidgets as ipw\n",
    "import base64\n",
    "from random import randint\n",
    "from pynq import Clocks\n",
    "import xrfdc\n",
    "import os"
   ]
  },
  {
   "cell_type": "markdown",
   "id": "08fbbb9b-2ed5-4890-927e-811c403c2935",
   "metadata": {},
   "source": [
    "# Use base overlay"
   ]
  },
  {
   "cell_type": "code",
   "execution_count": 144,
   "id": "10f789db-80d3-4ecd-9bba-70645b3c6544",
   "metadata": {
    "tags": []
   },
   "outputs": [],
   "source": [
    "# Use the RFSoC overlay\n",
    "from pynq.overlays.base import BaseOverlay\n",
    "\n",
    "base = BaseOverlay('base.bit')\n",
    "\n",
    "# Start RF clocks\n",
    "base.init_rf_clks()\n",
    "# help(Clocks)\n",
    "# help(base)\n",
    "\n",
    "\n",
    "\n",
    "# Channels\n",
    "#print(\"Transmitter channels:\\n\",base.radio.transmitter.get_channel_description())\n",
    "DAC_CHANNEL_B = 0 # 'Channel 0': {'Tile': 224, 'Block': 0}\n",
    "DAC_CHANNEL_A = 1 # 'Channel 1': {'Tile': 230, 'Block': 0}\n",
    "\n",
    "#print(\"Receiver channels:\\n\",base.radio.receiver.get_channel_description())\n",
    "ADC_CHANNEL_D = 0 # 'Channel 0': {'Tile': 224, 'Block': 0}\n",
    "ADC_CHANNEL_C = 1 # 'Channel 1': {'Tile': 224, 'Block': 1}\n",
    "ADC_CHANNEL_B = 2 # 'Channel 2': {'Tile': 226, 'Block': 0}\n",
    "ADC_CHANNEL_A = 3 # 'Channel 3': {'Tile': 226, 'Block': 1}"
   ]
  },
  {
   "cell_type": "markdown",
   "id": "756a03af-177b-460a-bd78-f6170e593373",
   "metadata": {},
   "source": [
    "# Choose variables\n",
    "Take caution if changing any of these throughout the notebook. We choose to bypass the decimator to achieve higher definition time plots of incoming signals."
   ]
  },
  {
   "cell_type": "code",
   "execution_count": 145,
   "id": "36155231-d7b3-4602-be95-e528145661e2",
   "metadata": {},
   "outputs": [
    {
     "name": "stdout",
     "output_type": "stream",
     "text": [
      "Default ADC MixerSettings:  {'Freq': -1228.8, 'PhaseOffset': 0.0, 'EventSource': 2, 'CoarseMixFreq': 0, 'MixerMode': 3, 'FineMixerScale': 1, 'MixerType': 2}\n",
      "Default ADC DecimationFactor:  1\n",
      "Default and nonconfigurable ADC sampling frequency is 4915.2 MHz\n"
     ]
    }
   ],
   "source": [
    "# Set the center frequency and sampling frequency\n",
    "\n",
    "center_frequency = 1240e6  # Hz Frequency of carrier signal\n",
    "number_samples = 32768  # Between 16 and 32768\n",
    "decimation_factor = 1 # 2 is default\n",
    "sample_frequency = 4915.2e6/decimation_factor  # Hz The default sample frequency is 4915.2e6 Hz which is sufficient for our signal\n",
    "\n",
    "base.radio.receiver.channel[ADC_CHANNEL_D].adc_block.DecimationFactor = decimation_factor\n",
    "\n",
    "print(\"Default ADC MixerSettings: \", base.radio.receiver.channel[ADC_CHANNEL_D].adc_block.MixerSettings)\n",
    "print(\"Default ADC DecimationFactor: \", base.radio.receiver.channel[ADC_CHANNEL_D].adc_block.DecimationFactor)\n",
    "print(\"Default and nonconfigurable ADC sampling frequency is 4915.2 MHz\")"
   ]
  },
  {
   "cell_type": "markdown",
   "id": "a7ab748c-1558-4ce6-b0ca-948ab4a3e17c",
   "metadata": {},
   "source": [
    "# Helper Functions"
   ]
  },
  {
   "cell_type": "code",
   "execution_count": 146,
   "id": "6be67afe-2da7-4508-9fe0-00d4f8a30c41",
   "metadata": {
    "tags": []
   },
   "outputs": [],
   "source": [
    "# Function to plot real and imaginary data in time domain\n",
    "def plot_complex_time(data, n, fs=sample_frequency, \n",
    "                      title='Complex Time Plot'):\n",
    "    plt_re_temp = (go.Scatter(x = np.arange(0, n/fs, 1/fs),\n",
    "                              y = np.real(data), name='Real'))\n",
    "    plt_im_temp = (go.Scatter(x = np.arange(0, n/fs, 1/fs),\n",
    "                              y = np.imag(data), name='Imag'))\n",
    "    return go.FigureWidget(data = [plt_re_temp, plt_im_temp],\n",
    "                           layout = {'title': title, \n",
    "                                     'xaxis': {\n",
    "                                         'title': 'Seconds (s)',\n",
    "                                         'autorange' : True},\n",
    "                                     'yaxis': {\n",
    "                                         'title': 'Amplitude (V)'}})\n",
    "\n",
    "\n",
    "def plot_time(data, n, fs=sample_frequency, \n",
    "                      title='Time Plot'):\n",
    "    plt_temp = (go.Scatter(x = np.arange(0, n/fs, 1/fs),\n",
    "                              y = data))\n",
    "    return go.FigureWidget(data = plt_temp,\n",
    "                           layout = {'title': title, \n",
    "                                     'xaxis': {\n",
    "                                         'title': 'Seconds (s)',\n",
    "                                         'autorange' : True},\n",
    "                                     'yaxis': {\n",
    "                                         'title': 'Amplitude (V)'}})\n",
    "\n",
    "# Functions\n",
    "# Function to convert integer to binary array\n",
    "def int_to_binary_array(num, num_bits):\n",
    "    return np.array(list(format(num, f'0{num_bits}b')), dtype=int)\n",
    "\n",
    "# Function to convert binary array to integer\n",
    "def binary_array_to_int(binary_array):\n",
    "    return int(''.join(map(str, binary_array)), 2)\n",
    "\n",
    "# Function to generate message with buffer\n",
    "def _create_buffer(data=np.array([72, 101, 108, 108, 111,  32,  87, 111, 114, 108, 100,  33], dtype=np.uint8), eof=1, padding=0):\n",
    "        \"\"\"Create a buffer that is loaded user data. Append the Extended Barker sequence\n",
    "        to the user data and then pad with zeros\n",
    "        \"\"\"\n",
    "        frame_number = 0\n",
    "        random_size = 10\n",
    "        flags = eof\n",
    "        if data.size == 0:\n",
    "            raise ValueError('Message size should be greater than 0.')\n",
    "        msg = np.array(data, dtype=np.uint8)\n",
    "        # Append Barker and Random Data\n",
    "        bkr = np.array([0, 0, 63, 112, 28, len(msg) + 5, frame_number, flags, 5, len(msg), padding], dtype=np.uint8)\n",
    "        rnd = np.array([randint(0, 255) for p in range(0, random_size)], dtype=np.uint8)\n",
    "        seq = np.append(bkr, msg)\n",
    "        seq = np.append(rnd, seq)\n",
    "        pad = np.append(seq, np.zeros(int(np.ceil((len(rnd) + len(bkr) + len(msg))/32) * 32 - (len(rnd) + len(bkr) + len(msg))), dtype=np.uint8))\n",
    "        buf = allocate(shape=(len(pad),), dtype=np.uint8)\n",
    "        buf[:] = pad[:]\n",
    "        return buf"
   ]
  },
  {
   "cell_type": "markdown",
   "id": "160fa9f0-91d1-4352-a6b3-af8e5a18243b",
   "metadata": {},
   "source": [
    "# Adjust mixer settings to bypass both the coarse and fine mixers in order to inspect raw carrier signal"
   ]
  },
  {
   "cell_type": "code",
   "execution_count": 147,
   "id": "3163c0ee-07f0-4920-9b14-bef515f633f9",
   "metadata": {},
   "outputs": [
    {
     "name": "stdout",
     "output_type": "stream",
     "text": [
      "ADC MixerSettings with both mixers bypassed:  {'Freq': 0.0, 'PhaseOffset': 0.0, 'EventSource': 2, 'CoarseMixFreq': 16, 'MixerMode': 3, 'FineMixerScale': 1, 'MixerType': 1}\n"
     ]
    }
   ],
   "source": [
    "base.radio.receiver.channel[ADC_CHANNEL_D].adc_block.MixerSettings = {\n",
    "    'CoarseMixFreq':  xrfdc.COARSE_MIX_BYPASS,\n",
    "    'EventSource':    xrfdc.EVNT_SRC_TILE, \n",
    "    'FineMixerScale': xrfdc.MIXER_SCALE_1P0,\n",
    "    'Freq':           0.0,\n",
    "    'MixerMode':      xrfdc.MIXER_MODE_R2C,\n",
    "    'MixerType':      xrfdc.MIXER_TYPE_COARSE,\n",
    "    'PhaseOffset':    0.0\n",
    "}\n",
    "\n",
    "# Print mixer settings needed to inspect carrier\n",
    "print(\"ADC MixerSettings with both mixers bypassed: \", base.radio.receiver.channel[ADC_CHANNEL_D].adc_block.MixerSettings)"
   ]
  },
  {
   "cell_type": "markdown",
   "id": "f61d1b69-805e-48d9-b782-353babccb562",
   "metadata": {},
   "source": [
    "# Sample the carrier signal"
   ]
  },
  {
   "cell_type": "code",
   "execution_count": 148,
   "id": "372e7f1f-a358-4266-947a-53c79c7a7d79",
   "metadata": {},
   "outputs": [
    {
     "name": "stdout",
     "output_type": "stream",
     "text": [
      "Measured peak 2 peak amplitude: 431.8 mV\n",
      "Measured frequency: 1.2334 GHz\n",
      "Measured period: .811 ns\n"
     ]
    },
    {
     "data": {
      "application/vnd.jupyter.widget-view+json": {
       "model_id": "398c248e37f944858cfdffe33e23e28f",
       "version_major": 2,
       "version_minor": 0
      },
      "text/plain": [
       "VBox(children=(FigureWidget({\n",
       "    'data': [{'name': 'Real',\n",
       "              'type': 'scatter',\n",
       "              'ui…"
      ]
     },
     "metadata": {},
     "output_type": "display_data"
    }
   ],
   "source": [
    "# Sample carrier signal\n",
    "\n",
    "carrier_data = []  # Storage for incoming real data\n",
    "#for i in range(0, len(base.radio.receiver.channel)): # Show all plots\n",
    "for i in range(0, ADC_CHANNEL_D+1): # Show only ADC D\n",
    "    carrier_data.append(base.radio.receiver.channel[i].transfer(number_samples))\n",
    "    \n",
    "# Plotting raw data in the time domain\n",
    "figs = [] # Storage for ADC time domain plots\n",
    "\n",
    "# Add plots to figs\n",
    "#for i in range(0, len(base.radio.receiver.channel)): # Show all plots\n",
    "for i in range(0, ADC_CHANNEL_D+1): # Show only ADC D\n",
    "    figs.append(plot_complex_time(\n",
    "        data=carrier_data[i], \n",
    "        n=number_samples,\n",
    "        title=''.join(['Time Domain Plot of ADC Channel ', str(i), ' Carrier Signal'])))\n",
    "    \n",
    "# THIS SHOULD LOOK LIKE THE CARRIER SIGNAL\n",
    "print(\"Measured peak 2 peak amplitude: 431.8 mV\")\n",
    "print(\"Measured frequency: 1.2334 GHz\")\n",
    "print(\"Measured period: .811 ns\")\n",
    "    \n",
    "# plot ADC real time domain data\n",
    "ipw.VBox(figs)"
   ]
  },
  {
   "cell_type": "markdown",
   "id": "3ec32949-23d2-48a9-ae01-2f1e23526403",
   "metadata": {},
   "source": [
    "# Work in progress: Spectrum Analyzer not looking right with current settings"
   ]
  },
  {
   "cell_type": "raw",
   "id": "b17ee8d8-6c36-4235-a3ce-b2866858be45",
   "metadata": {},
   "source": [
    "# Adjust mixer settings to do bypass mixers in order to inspect carrier signal\n",
    "\n",
    "base.radio.receiver.channel[ADC_CHANNEL_D].adc_block.MixerSettings = {\n",
    "    'CoarseMixFreq':  xrfdc.COARSE_MIX_BYPASS,\n",
    "    'EventSource':    xrfdc.EVNT_SRC_TILE, \n",
    "    'FineMixerScale': xrfdc.MIXER_SCALE_1P0,\n",
    "    'Freq':           0,\n",
    "    'MixerMode':      xrfdc.MIXER_MODE_R2C,\n",
    "    'MixerType':      xrfdc.MIXER_TYPE_COARSE,\n",
    "    'PhaseOffset':    0.0\n",
    "}\n",
    "\n",
    "# Print mixer settings needed to inspect carrier\n",
    "print(\"ADC MixerSettings with both mixers bypassed: \", base.radio.receiver.channel[ADC_CHANNEL_D].adc_block.MixerSettings)"
   ]
  },
  {
   "cell_type": "code",
   "execution_count": 150,
   "id": "18281334-e71c-497e-850f-d7db74b2b187",
   "metadata": {},
   "outputs": [
    {
     "data": {
      "application/vnd.jupyter.widget-view+json": {
       "model_id": "7913c49e69734e0ea3fde627273aae01",
       "version_major": 2,
       "version_minor": 0
      },
      "text/plain": [
       "VBox(children=(FigureWidget({\n",
       "    'data': [{'name': 'Spectrum',\n",
       "              'type': 'scatter',\n",
       "             …"
      ]
     },
     "metadata": {},
     "output_type": "display_data"
    }
   ],
   "source": [
    "# Perform and plot FFT of carrier signal\n",
    "\n",
    "from rfsystem.spectrum_sweep import SpectrumAnalyser\n",
    "\n",
    "analysers = []\n",
    "#for i in range(0, len(base.radio.receiver.channel)): # Show all plots\n",
    "for i in range(0, ADC_CHANNEL_D+1): # Show only ADC D\n",
    "    analysers.append(\n",
    "        SpectrumAnalyser(channel = base.radio.receiver.channel[i],\n",
    "                         sample_frequency = sample_frequency,\n",
    "                         number_samples = number_samples,\n",
    "                         title = ''.join(['Spectrum Analyser Channel ',\n",
    "                                          str(i)]),\n",
    "                         height = None,\n",
    "                         width = None))\n",
    "\n",
    "ipw.VBox([analyser.spectrum_plot.get_plot() for analyser in analysers])"
   ]
  },
  {
   "cell_type": "markdown",
   "id": "a850c7dd-1233-4458-98c4-27eb28a1961c",
   "metadata": {},
   "source": [
    "1251.45MHz is actual seen frequency"
   ]
  },
  {
   "cell_type": "raw",
   "id": "086572db-5cdb-40e1-8fed-934ea389f127",
   "metadata": {},
   "source": [
    "# Sweep FFT\n",
    "\n",
    "import time\n",
    "\n",
    "for i in range(0, 20):\n",
    "    for analyser in analysers:\n",
    "        analyser.update_spectrum()\n",
    "    time.sleep(0.2)"
   ]
  },
  {
   "cell_type": "markdown",
   "id": "27568c5c-afab-46fa-8075-12fcd6ea7cff",
   "metadata": {},
   "source": [
    "# Adjust mixer settings to do carrier demodulation\n",
    "Attempt using coarse mixer first since 4915.2MHz/4 = 1228.8MHz which is almost 1240MHz. We should see a frequency offset of approximately 11.2 MHz which for visualization purposes is fine. However, the fine mixer is likely more optimal. 'Freq' should be set to 1240 (MHz) if fine is used."
   ]
  },
  {
   "cell_type": "code",
   "execution_count": 158,
   "id": "cb6c1c18-05c1-4a9b-b50b-98ec1b18deee",
   "metadata": {},
   "outputs": [
    {
     "name": "stdout",
     "output_type": "stream",
     "text": [
      "ADC MixerSettings:  {'Freq': 0.0, 'PhaseOffset': 0.0, 'EventSource': 2, 'CoarseMixFreq': 4, 'MixerMode': 3, 'FineMixerScale': 1, 'MixerType': 1}\n"
     ]
    }
   ],
   "source": [
    "\n",
    "base.radio.receiver.channel[ADC_CHANNEL_D].adc_block.MixerSettings = {\n",
    "    'CoarseMixFreq':  xrfdc.COARSE_MIX_SAMPLE_FREQ_BY_FOUR,\n",
    "    'EventSource':    xrfdc.EVNT_SRC_TILE, \n",
    "    'FineMixerScale': xrfdc.MIXER_SCALE_1P0,\n",
    "    'Freq':           0.0,\n",
    "    'MixerMode':      xrfdc.MIXER_MODE_R2C,\n",
    "    'MixerType':      xrfdc.MIXER_TYPE_COARSE,\n",
    "    'PhaseOffset':    0.0\n",
    "}\n",
    "# Print mixer settings for demodulating carrier\n",
    "print(\"ADC MixerSettings: \", base.radio.receiver.channel[ADC_CHANNEL_D].adc_block.MixerSettings)"
   ]
  },
  {
   "cell_type": "markdown",
   "id": "5abec88c-3613-437c-9383-90afea86a1b8",
   "metadata": {},
   "source": [
    "# Sample and mix the carrier signal down to baseband"
   ]
  },
  {
   "cell_type": "code",
   "execution_count": 159,
   "id": "06f44535-65d5-4cfb-9987-4e66455dda64",
   "metadata": {},
   "outputs": [],
   "source": [
    "baseband_data = []  # Storage for incoming I and Q data\n",
    "#for i in range(0, len(base.radio.receiver.channel)): # Show all plots\n",
    "for i in range(0, ADC_CHANNEL_D+1): # Show only ADC D\n",
    "    baseband_data.append(base.radio.receiver.channel[i].transfer(number_samples))\n",
    "#print(raw_data[ADC_CHANNEL_D])\n",
    "#print(\"raw_data: \", raw_data[ADC_CHANNEL_D])\n",
    "#print(\"number_samples: \", number_samples)"
   ]
  },
  {
   "cell_type": "code",
   "execution_count": 160,
   "id": "6c500f53-6fde-4e9e-9da5-293694f3ae43",
   "metadata": {
    "tags": []
   },
   "outputs": [
    {
     "data": {
      "application/vnd.jupyter.widget-view+json": {
       "model_id": "da8858bc48e848b799763bd9585cde57",
       "version_major": 2,
       "version_minor": 0
      },
      "text/plain": [
       "VBox(children=(FigureWidget({\n",
       "    'data': [{'name': 'Real',\n",
       "              'type': 'scatter',\n",
       "              'ui…"
      ]
     },
     "metadata": {},
     "output_type": "display_data"
    }
   ],
   "source": [
    "# Plotting baseband data in the time domain\n",
    "\n",
    "figs = [] # Storage for ADC time domain plots\n",
    "\n",
    "# Add plots to figs\n",
    "#for i in range(0, len(base.radio.receiver.channel)): # Show all plots\n",
    "for i in range(0, ADC_CHANNEL_D+1): # Show only ADC D\n",
    "    figs.append(plot_complex_time(\n",
    "        data=baseband_data[i], \n",
    "        n=number_samples,\n",
    "        title=''.join(['Time Domain Plot of ADC Channel ', str(i), ' \"Baseband\" Signal'])))\n",
    "    \n",
    "# plot ADC real and imaginary time domain data\n",
    "ipw.VBox(figs)\n",
    "\n",
    "# THESE SHOULD LOOK LIKE THE MODULATED WAVES"
   ]
  },
  {
   "cell_type": "markdown",
   "id": "970baa08-3c46-4bf9-95cc-ed68dbcdcbfe",
   "metadata": {},
   "source": [
    "# FFT of baseband signal"
   ]
  },
  {
   "cell_type": "code",
   "execution_count": 161,
   "id": "eed1b99d-8698-4946-872e-dcbad1a72b8b",
   "metadata": {
    "tags": []
   },
   "outputs": [
    {
     "data": {
      "application/vnd.jupyter.widget-view+json": {
       "model_id": "e4dd2643ae264bd5832e9323d1cc8362",
       "version_major": 2,
       "version_minor": 0
      },
      "text/plain": [
       "VBox(children=(FigureWidget({\n",
       "    'data': [{'name': 'Spectrum',\n",
       "              'type': 'scatter',\n",
       "             …"
      ]
     },
     "metadata": {},
     "output_type": "display_data"
    }
   ],
   "source": [
    "from rfsystem.spectrum_sweep import SpectrumAnalyser\n",
    "\n",
    "analysers = []\n",
    "#for i in range(0, len(base.radio.receiver.channel)): # Show all plots\n",
    "for i in range(0, ADC_CHANNEL_D+1): # Show only ADC D\n",
    "    analysers.append(\n",
    "        SpectrumAnalyser(channel = base.radio.receiver.channel[i],\n",
    "                         sample_frequency = sample_frequency,\n",
    "                         number_samples = number_samples,\n",
    "                         title = ''.join(['Spectrum Analyser Channel ',\n",
    "                                          str(i)],),\n",
    "                         height = None,\n",
    "                         width = None))\n",
    "\n",
    "ipw.VBox([analyser.spectrum_plot.get_plot() for analyser in analysers])\n"
   ]
  },
  {
   "cell_type": "markdown",
   "id": "651da220-4307-4fcc-af73-997af5a599ab",
   "metadata": {},
   "source": [
    "Offset of 22.2 MHz is because actual seen frequency from carrier FFT was 1251MHz rather than 1240MHz. 1251MHz-1228.8MHz = 22.2MHz"
   ]
  },
  {
   "cell_type": "raw",
   "id": "1caa6f23-2b04-4e37-bc8e-8df6f293c3a1",
   "metadata": {
    "tags": []
   },
   "source": [
    "# Sweep FFT\n",
    "\n",
    "import time\n",
    "\n",
    "for i in range(0, 20):\n",
    "    for analyser in analysers:\n",
    "        analyser.update_spectrum()\n",
    "    time.sleep(0.2)"
   ]
  },
  {
   "cell_type": "raw",
   "id": "17cbeecb-ff4c-4ee9-aac9-a12f734888fe",
   "metadata": {
    "tags": []
   },
   "source": [
    "CARRIER DEMODULATION THINGS TO FIGURE OUT\n",
    "1. Are we correctly demodulating our carrier signal by mixing it with our center frequency?\n",
    "\n",
    "Answer: There are multiple ways to mod/demod a carrier frequency (AM or QAM). We need to figure out which one the HackRF is using and then make sure we do the same for demod. I'm guessing the demod scheme can by configuring one or both of the following:\n",
    "\n",
    "    base.radio.receiver.channel[ADC_CHANNEL_D].adc_block.MixerSettings['MixerMode']) = 3\n",
    "    base.radio.receiver.channel[ADC_CHANNEL_D].adc_block.MixerSettings['MixerType']) = 2\n",
    "    \n",
    "The above settings correspond to QAM so if the HackRF is indeed performing QAM, we don't need to tweak this.\n",
    "\n",
    "2. Do we need to filter after downconverting?\n",
    "\n",
    "Answer: Yes, an 'image' will be seen at a higher frequency than our baseband signal that needs to be removed. We should look into using the following code for this:\n",
    "    \n",
    "    filtered_signal = np.convolve(downconverted_signal, np.ones(int(sample_frequency * T))/sample_frequency, mode='valid')\n",
    "    \n",
    "Other notes:\n",
    "1. PhaseOffset may need to be adjusted if the output is off (this is caused by a phase shift in the NCO during carrier demodulation):\n",
    "\n",
    "    base.radio.receiver.channel[ADC_CHANNEL_D].adc_block.MixerSettings['MixerType']) = 2\n",
    "    \n",
    "2. If the default sample frequency of the board is not 2457.6e6 Hz like it seems, we need to figure out what it is and potentially use a lower carrier frequency for demo. OR figure out a way to change it which it seems like there is not.\n",
    "    \n",
    "QPSK THINGS TO FIGURE OUT\n",
    "1. What encoding scheme was used to convert the binary in the rtf file? Or was that binary sequence directly modulated?\n",
    "Answer: Need to ask Gabe still unsure...\n",
    "2. How do we figure out what to set the below parameters to? Related to modulation scheme? Dependent on the baseband of our signal?\n",
    "Answer: We need to know if this line in the \n"
   ]
  },
  {
   "cell_type": "raw",
   "id": "ed8c0550-033e-41e5-8c38-f50649ddb83b",
   "metadata": {
    "tags": []
   },
   "source": [
    "from pynq import allocate\n",
    "expected_message = _create_buffer()\n",
    "print(\"expected_message: \", expected_message)"
   ]
  },
  {
   "cell_type": "markdown",
   "id": "f3a102df-b541-43f7-9910-8b0ef513b5e5",
   "metadata": {},
   "source": [
    "# Symbol to bit mapping"
   ]
  },
  {
   "cell_type": "code",
   "execution_count": 155,
   "id": "eaeddc79-a5d5-42db-b132-43f26bd64b3e",
   "metadata": {},
   "outputs": [],
   "source": [
    "# Parameters for baseband demodulation - NEED TO CHECK ON ALL OF THESE, HOW DO WE MATCH TO OUR BASEBAND SIGNAL?\n",
    "\n",
    "# bit rate \n",
    "# HackRF parameters: Sample Rate = 4 MHz, Symbol Rate = 1 MHz, Interpolation = 2 MHz, Decimation/Sample Rate = 48 kHz\n",
    "br = 50000  # Is this set to sample_frequency? \n",
    "\n",
    "# carrier frequency\n",
    "f = br      # Is this set to center_frequency?\n",
    "# bit duration\n",
    "T = 1/br    # What is this?\n",
    "\n",
    "bits_per_symbol = 2 # For QPSK\n"
   ]
  },
  {
   "cell_type": "code",
   "execution_count": 156,
   "id": "d9227101-ac1a-4671-9d9b-e151481c3c50",
   "metadata": {
    "tags": []
   },
   "outputs": [],
   "source": [
    "# Demodulate using in phase and quadrature data from ADC D\n",
    "Rx_data = np.array([])\n",
    "Rx_in_data = np.array([])\n",
    "Rx_qd_data = np.array([])\n",
    "Z_in = np.array([])\n",
    "Z_qd = np.array([])\n",
    "\n",
    "\n",
    "\n",
    "for i in range(len(downconverted_data[ADC_CHANNEL_D])//bits_per_symbol):\n",
    "    # Inphase coherent detector\n",
    "    Z_in = np.append(Z_in, baseband_data[ADC_CHANNEL_D].real[i*99:(i+1)*99])\n",
    "    Z_in_intg = np.trapz(Z_in) * (2 / T) # Finding average value?\n",
    "    #print(Z_in_intg)\n",
    "    if Z_in_intg > 0:\n",
    "        Rx_in_data = np.append(Rx_in_data, 1)\n",
    "    else:\n",
    "        Rx_in_data = np.append(Rx_in_data, 0)\n",
    "\n",
    "    # Quadrature coherent detector\n",
    "    Z_qd = np.append(Z_qd, baseband_data[ADC_CHANNEL_D].imag[i*99:(i+1)*99])\n",
    "    Z_qd_intg = np.trapz(Z_qd) * (2 / T) # Finding average value?\n",
    "    #print(Z_qd_intg)\n",
    "    if Z_qd_intg > 0:\n",
    "        Rx_qd_data = np.append(Rx_qd_data, 1)\n",
    "    else:\n",
    "        Rx_qd_data = np.append(Rx_qd_data, 0)\n",
    "    Rx_data = np.append(Rx_data, [Rx_in_data[i], Rx_qd_data[i]])\n",
    "\n",
    "#print(\"Z_in: \", Z_in)\n",
    "# print(\"Z_qd: \", Z_qd)\n",
    "# print(\"length of Z_in: \", len(Z_in))\n",
    "# print(\"Rx_in_data: \", Rx_in_data)\n",
    "# print(\"length of Z_qd: \", len(Z_qd))\n",
    "# print(\"Rx_qd_data: \", Rx_qd_data)\n",
    "# print(\"length of Rx_data: \", len(Rx_data))\n",
    "# print(\"Rx_data: \", Rx_data)\n"
   ]
  },
  {
   "cell_type": "raw",
   "id": "afa856e7-c137-40cf-b85e-05f9e3432fc5",
   "metadata": {
    "tags": []
   },
   "source": [
    "# Plot received In phase and Quadrature Data\n",
    "\n",
    "figs = [] # Storage for ADC time domain plots\n",
    "\n",
    "#for i in range(0, len(base.radio.receiver.channel)): # Show all plots\n",
    "for i in range(0, ADC_CHANNEL_D+1): # Show only ADC D\n",
    "    figs.append(plot_time(\n",
    "        data=Z_in,\n",
    "        n=number_samples,\n",
    "        title=''.join(['Time Domain Plot of ADC Channel In Phase Data ', str(i)])))\n",
    "    \n",
    "#for i in range(0, len(base.radio.receiver.channel)): # Show all plots\n",
    "for i in range(0, ADC_CHANNEL_D+1): # Show only ADC D\n",
    "    figs.append(plot_time(\n",
    "        data=Z_qd,\n",
    "        n=number_samples,\n",
    "        title=''.join(['Time Domain Plot of ADC Channel Quadrature Data ', str(i)])))\n",
    "    \n",
    "#for i in range(0, len(base.radio.receiver.channel)): # Show all plots\n",
    "for i in range(0, ADC_CHANNEL_D+1): # Show only ADC D\n",
    "    figs.append(plot_time(\n",
    "        data=Z_in+Z_qd,\n",
    "        n=number_samples,\n",
    "        title=''.join(['Time Domain Plot of ADC Channel Sum of Z_in and Z_qd ', str(i)])))\n",
    "    \n",
    "# Show plots\n",
    "ipw.VBox(figs)"
   ]
  },
  {
   "cell_type": "code",
   "execution_count": 157,
   "id": "74bd5320-02bd-426c-876d-1a8c57062141",
   "metadata": {},
   "outputs": [
    {
     "data": {
      "image/png": "[encoded data removed]",
      "text/plain": [
       "<Figure size 432x288 with 1 Axes>"
      ]
     },
     "metadata": {
      "needs_background": "light"
     },
     "output_type": "display_data"
    },
    {
     "name": "stdout",
     "output_type": "stream",
     "text": [
      "Received binary:  [0. 0. 1. ... 0. 1. 0.]\n",
      "actual_word:  [0. 0. 1. 0. 0. 0. 1. 0. 0. 0. 1. 0. 0. 0. 1. 0. 1. 0. 1. 0. 1. 0. 1. 0.\n",
      " 1. 0. 1. 0. 0. 0. 1. 0. 0. 0. 1. 0. 0. 0. 1. 0. 1. 0. 0. 0. 1. 0. 0. 0.\n",
      " 1. 0. 0. 0. 1. 0. 0. 0. 1. 0. 0. 1. 1. 0. 1. 1. 0. 0. 1. 0. 0. 0. 1. 0.\n",
      " 0. 0. 1. 0. 0. 1. 1. 0. 1. 1. 0. 0. 1. 0. 0. 0. 1. 0. 0. 0. 1. 0. 0. 0.\n",
      " 1. 0. 1. 0. 0. 0. 1. 0. 0. 0. 1. 0. 0. 0. 1. 0. 0. 0. 1. 0. 1. 0. 0. 0.\n",
      " 1. 0. 0. 0. 1. 0. 0. 0. 1. 0. 0. 1. 1. 0. 1. 0. 0. 0. 1. 0. 0. 0. 1. 0.\n",
      " 0. 0. 1. 0. 0. 0. 1. 0. 1. 0. 0. 0. 1. 0. 0. 0. 1. 0. 0. 0. 1. 0. 0. 0.\n",
      " 1. 0. 1. 0. 0. 0. 1. 0. 0. 0. 1. 0. 0. 0. 1. 0. 0.]\n",
      "Bit Error Rate: 51.35135135135135%\n"
     ]
    }
   ],
   "source": [
    "# Plot binary\n",
    "\n",
    "plt.figure()\n",
    "plt.stem(range(len(Rx_data)), Rx_data, linefmt='r-', markerfmt='ro')\n",
    "plt.title('Information after Receiving')\n",
    "plt.axis([-.5, len(Rx_data)/99 + .5, 0, 1.5])\n",
    "plt.grid(True)\n",
    "plt.show()\n",
    "\n",
    "# Calculate BER\n",
    "print(\"Received binary: \", Rx_data)\n",
    "number_bytes = 23\n",
    "original_message_length = number_bytes*8\n",
    "actual_word = np.array([])\n",
    "for i in range(0, original_message_length+1):\n",
    "    actual_word = np.append(actual_word, Rx_data[i])\n",
    "print(\"actual_word: \", actual_word)\n",
    "expected_word = '011010000110010101101100011011000110111100100000011001110111001001101111011011110111011001101001011011100110011100100000011100110110100001110010011001010110010001100100011001010111001001110011'\n",
    "test_actual = ''\n",
    "\n",
    "for i in actual_word:\n",
    "    test_actual += str(int(i))\n",
    "\n",
    "wrong = 0\n",
    "for i in range(0, len(test_actual)):\n",
    "    if test_actual[i] != expected_word[i]:\n",
    "        wrong += 1\n",
    "    \n",
    "bit_error_rate = 100 * (wrong / len(test_actual))\n",
    "print(\"Bit Error Rate: \" + str(bit_error_rate) + \"%\")\n",
    "\n",
    "# Actual Message:\n",
    "# 01101000 01100101 01101100 01101100 01101111 00100000 01100111 01110010 01101111 01101111 01110110 01101001 01101110 01100111 00100000 01110011 01101000 01110010 01100101 01100100 01100100 01100101 01110010 01110011\n",
    "# Received:\n",
    "# 01010100 00011100 00011100 01010100 01011100 01011100 01011000 \n",
    "# 01111101 01111000 01111001 01111001 01110001 11111001 11110001\n",
    "# 11110001 11110101 11100001 11100111 11110111 11100111 11011111\n",
    "# 11001111 0101111\n",
    "\n",
    "# Expected\n",
    "# Convert binary to integer\n",
    "received_integer = binary_array_to_int(actual_word.astype(int))\n",
    "#print(\"Received integer: \", received_integer)\n",
    "\n",
    "# Convert integer to bytes\n",
    "rec_bytes_representation = received_integer.to_bytes((received_integer.bit_length() + 7) // 8, byteorder='big')\n",
    "#print(\"rec_bytes_representation: \", rec_bytes_representation)\n",
    "\n",
    "# Decode bytes back to string NOT WORKING\n",
    "# decoded_string = rec_bytes_representation.decode('ascii') # WHAT ENCODING SCHEME DID WE USE?\n",
    "# print(\"Received Word: \", decoded_string)\n",
    "\n",
    "# # Convert binary to integer\n",
    "# received_integer = binary_array_to_int(Rx_data.astype(int))\n",
    "# print(\"Received integer: \", received_integer)\n",
    "\n",
    "# # Convert integer to bytes\n",
    "# rec_bytes_representation = received_integer.to_bytes((received_integer.bit_length() + 7) // 8, byteorder='big')\n",
    "# print(\"rec_bytes_representation: \", rec_bytes_representation)\n",
    "\n",
    "# # Decode bytes back to string\n",
    "# decoded_string = rec_bytes_representation.decode('ascii') # WHAT ENCODING SCHEME DID WE USE?\n",
    "# print(\"Received Word: \", decoded_string)\n"
   ]
  }
 ],
 "metadata": {
  "kernelspec": {
   "display_name": "Python 3 (ipykernel)",
   "language": "python",
   "name": "python3"
  },
  "language_info": {
   "codemirror_mode": {
    "name": "ipython",
    "version": 3
   },
   "file_extension": ".py",
   "mimetype": "text/x-python",
   "name": "python",
   "nbconvert_exporter": "python",
   "pygments_lexer": "ipython3",
   "version": "3.10.4"
  }
 },
 "nbformat": 4,
 "nbformat_minor": 5
}
