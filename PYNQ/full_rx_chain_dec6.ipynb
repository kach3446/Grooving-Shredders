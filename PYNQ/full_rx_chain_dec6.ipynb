{
 "cells": [
  {
   "cell_type": "code",
   "execution_count": 1,
   "id": "0e57e889-ef43-4b46-8462-24f2d4d7c5d4",
   "metadata": {},
   "outputs": [],
   "source": [
    "# Imports\n",
    "import numpy as np\n",
    "import scipy.signal as signal\n",
    "import matplotlib.pyplot as plt\n",
    "import plotly.graph_objs as go\n",
    "from plotly.subplots import make_subplots\n",
    "import numpy as np\n",
    "import ipywidgets as ipw\n",
    "import base64\n",
    "from random import randint"
   ]
  },
  {
   "cell_type": "code",
   "execution_count": 2,
   "id": "10f789db-80d3-4ecd-9bba-70645b3c6544",
   "metadata": {},
   "outputs": [
    {
     "data": {
      "application/javascript": [
       "\n",
       "try {\n",
       "require(['notebook/js/codecell'], function(codecell) {\n",
       "  codecell.CodeCell.options_default.highlight_modes[\n",
       "      'magic_text/x-csrc'] = {'reg':[/^%%microblaze/]};\n",
       "  Jupyter.notebook.events.one('kernel_ready.Kernel', function(){\n",
       "      Jupyter.notebook.get_cells().map(function(cell){\n",
       "          if (cell.cell_type == 'code'){ cell.auto_highlight(); } }) ;\n",
       "  });\n",
       "});\n",
       "} catch (e) {};\n"
      ]
     },
     "metadata": {},
     "output_type": "display_data"
    },
    {
     "data": {
      "application/javascript": [
       "\n",
       "try {\n",
       "require(['notebook/js/codecell'], function(codecell) {\n",
       "  codecell.CodeCell.options_default.highlight_modes[\n",
       "      'magic_text/x-csrc'] = {'reg':[/^%%pybind11/]};\n",
       "  Jupyter.notebook.events.one('kernel_ready.Kernel', function(){\n",
       "      Jupyter.notebook.get_cells().map(function(cell){\n",
       "          if (cell.cell_type == 'code'){ cell.auto_highlight(); } }) ;\n",
       "  });\n",
       "});\n",
       "} catch (e) {};\n"
      ]
     },
     "metadata": {},
     "output_type": "display_data"
    }
   ],
   "source": [
    "# Use the RFSoC overlay\n",
    "from pynq.overlays.base import BaseOverlay\n",
    "#from rfsoc_radio.overlay import RadioOverlay\n",
    "from pynq import Clocks\n",
    "import xrfdc\n",
    "import os\n",
    "base = BaseOverlay('base.bit')\n",
    "#ol = RadioOverlay(run_test=False, debug_test=False)\n",
    "\n",
    "# this_dir = os.path.dirname(__file__)\n",
    "# bitfile_name = os.path.join(this_dir, 'rfsoc_radio', 'bitstream', 'rfsoc_radio.bit')\n",
    "\n",
    "# help(ol.radio_receiver)\n",
    "\n",
    "# Start RF clocks\n",
    "# help(Clocks)\n",
    "# help(base)\n",
    "\n",
    "\n",
    "\n",
    "# Channels\n",
    "#print(\"Transmitter channels:\\n\",base.radio.transmitter.get_channel_description())\n",
    "DAC_CHANNEL_B = 0 # 'Channel 0': {'Tile': 224, 'Block': 0}\n",
    "DAC_CHANNEL_A = 1 # 'Channel 1': {'Tile': 230, 'Block': 0}\n",
    "\n",
    "#print(\"Receiver channels:\\n\",base.radio.receiver.get_channel_description())\n",
    "ADC_CHANNEL_D = 0 # 'Channel 0': {'Tile': 224, 'Block': 0}\n",
    "ADC_CHANNEL_C = 1 # 'Channel 1': {'Tile': 224, 'Block': 1}\n",
    "ADC_CHANNEL_B = 2 # 'Channel 2': {'Tile': 226, 'Block': 0}\n",
    "ADC_CHANNEL_A = 3 # 'Channel 3': {'Tile': 226, 'Block': 1}"
   ]
  },
  {
   "cell_type": "code",
   "execution_count": 3,
   "id": "e1918345-7300-4d08-94f3-ef650e3d9851",
   "metadata": {},
   "outputs": [],
   "source": [
    "\n",
    "# Generate message\n",
    "def _create_buffer(data=np.array([72, 101, 108, 108, 111,  32,  87, 111, 114, 108, 100,  33], dtype=np.uint8), eof=1, padding=0):\n",
    "        \"\"\"Create a buffer that is loaded user data. Append the Extended Barker sequence\n",
    "        to the user data and then pad with zeros\n",
    "        \"\"\"\n",
    "        frame_number = 0\n",
    "        random_size = 10\n",
    "        flags = eof\n",
    "        if data.size == 0:\n",
    "            raise ValueError('Message size should be greater than 0.')\n",
    "        msg = np.array(data, dtype=np.uint8)\n",
    "        # Append Barker and Random Data\n",
    "        bkr = np.array([0, 0, 63, 112, 28, len(msg) + 5, frame_number, flags, 5, len(msg), padding], dtype=np.uint8)\n",
    "        rnd = np.array([randint(0, 255) for p in range(0, random_size)], dtype=np.uint8)\n",
    "        seq = np.append(bkr, msg)\n",
    "        seq = np.append(rnd, seq)\n",
    "        pad = np.append(seq, np.zeros(int(np.ceil((len(rnd) + len(bkr) + len(msg))/32) * 32 - (len(rnd) + len(bkr) + len(msg))), dtype=np.uint8))\n",
    "        buf = allocate(shape=(len(pad),), dtype=np.uint8)\n",
    "        buf[:] = pad[:]\n",
    "        return buf"
   ]
  },
  {
   "cell_type": "code",
   "execution_count": 4,
   "id": "3107810b-d323-45a8-8edc-00b3b4ade5d6",
   "metadata": {},
   "outputs": [
    {
     "name": "stdout",
     "output_type": "stream",
     "text": [
      "expected_message:  [ 80 132   9 147 241 228  34 147  92  11   0   0  63 112  28  17   0   1\n",
      "   5  12   0  72 101 108 108 111  32  87 111 114 108 100  33   0   0   0\n",
      "   0   0   0   0   0   0   0   0   0   0   0   0   0   0   0   0   0   0\n",
      "   0   0   0   0   0   0   0   0   0   0]\n"
     ]
    }
   ],
   "source": [
    "from pynq import allocate\n",
    "expected_message = _create_buffer()\n",
    "print(\"expected_message: \", expected_message)"
   ]
  },
  {
   "cell_type": "code",
   "execution_count": 5,
   "id": "36155231-d7b3-4602-be95-e528145661e2",
   "metadata": {},
   "outputs": [],
   "source": [
    "# Set the center frequency and sampling frequency\n",
    "center_frequency = 1240e6  # Hz Frequency of incoming signal\n",
    "sample_frequency = 2457.6e6  # Hz I believe the default sample frequency is 2457.6e6 Hz which is sufficient for our signal\n",
    "downsample_factor = 2  # Choose how much to decimate by i.e '2' decimates 2x\n",
    "number_samples = 32768  # Between 16 and 32768\n",
    "\n",
    "# Set mixer frequency to center frequency to demodulate carrier frequency\n",
    "base.radio.receiver.channel[ADC_CHANNEL_D].adc_block.MixerSettings['Freq'] = 1240 # MHz\n",
    "base.radio.receiver.channel[ADC_CHANNEL_C].adc_block.MixerSettings['Freq'] = 1240 # MHz\n",
    "base.radio.receiver.channel[ADC_CHANNEL_B].adc_block.MixerSettings['Freq'] = 1240 # MHz\n",
    "base.radio.receiver.channel[ADC_CHANNEL_A].adc_block.MixerSettings['Freq'] = 1240 # MHz\n",
    "\n"
   ]
  },
  {
   "cell_type": "code",
   "execution_count": 6,
   "id": "6be67afe-2da7-4508-9fe0-00d4f8a30c41",
   "metadata": {},
   "outputs": [],
   "source": [
    "# Function to plot real and imaginary data in time domain\n",
    "def plot_complex_time(data, n, fs=sample_frequency, \n",
    "                      title='Complex Time Plot'):\n",
    "    plt_re_temp = (go.Scatter(x = np.arange(0, n/fs, 1/fs),\n",
    "                              y = np.real(data), name='Real'))\n",
    "    plt_im_temp = (go.Scatter(x = np.arange(0, n/fs, 1/fs),\n",
    "                              y = np.imag(data), name='Imag'))\n",
    "    return go.FigureWidget(data = [plt_re_temp, plt_im_temp],\n",
    "                           layout = {'title': title, \n",
    "                                     'xaxis': {\n",
    "                                         'title': 'Seconds (s)',\n",
    "                                         'autorange' : True},\n",
    "                                     'yaxis': {\n",
    "                                         'title': 'Amplitude (V)'}})\n",
    "\n",
    "def plot_time(data, n, fs=sample_frequency, \n",
    "                      title='Complex Time Plot'):\n",
    "    plt_temp = (go.Scatter(x = np.arange(0, n/fs, 1/fs),\n",
    "                              y = data))\n",
    "    return go.FigureWidget(data = plt_temp,\n",
    "                           layout = {'title': title, \n",
    "                                     'xaxis': {\n",
    "                                         'title': 'Seconds (s)',\n",
    "                                         'autorange' : True},\n",
    "                                     'yaxis': {\n",
    "                                         'title': 'Amplitude (V)'}})\n",
    "\n",
    "# Functions\n",
    "# Function to convert integer to binary array\n",
    "def int_to_binary_array(num, num_bits):\n",
    "    return np.array(list(format(num, f'0{num_bits}b')), dtype=int)\n",
    "\n",
    "# Function to convert binary array to integer\n",
    "def binary_array_to_int(binary_array):\n",
    "    return int(''.join(map(str, binary_array)), 2)"
   ]
  },
  {
   "cell_type": "code",
   "execution_count": 7,
   "id": "372e7f1f-a358-4266-947a-53c79c7a7d79",
   "metadata": {},
   "outputs": [
    {
     "data": {
      "application/vnd.jupyter.widget-view+json": {
       "model_id": "9b4267317c944cfea03c6a47a52f9649",
       "version_major": 2,
       "version_minor": 0
      },
      "text/plain": [
       "VBox(children=(FigureWidget({\n",
       "    'data': [{'name': 'Real',\n",
       "              'type': 'scatter',\n",
       "              'ui…"
      ]
     },
     "metadata": {},
     "output_type": "display_data"
    }
   ],
   "source": [
    "# Sample\n",
    "real_raw_data = []  # Storage for incoming I and Q data\n",
    "#for i in range(0, len(base.radio.receiver.channel)): # Show all plots\n",
    "for i in range(0, ADC_CHANNEL_D+1): # Show only ADC D\n",
    "    real_raw_data.append(base.radio.receiver.channel[i].transfer(number_samples))\n",
    "#print(raw_data[ADC_CHANNEL_D])\n",
    "#print(\"raw_data: \", raw_data[ADC_CHANNEL_D])\n",
    "#print(\"number_samples: \", number_samples)\n",
    "\n",
    "# Plotting raw data in the time domain\n",
    "figs = [] # Storage for ADC time domain plots\n",
    "\n",
    "# Add plots to figs\n",
    "#for i in range(0, len(base.radio.receiver.channel)): # Show all plots\n",
    "for i in range(0, ADC_CHANNEL_D+1): # Show only ADC D\n",
    "    figs.append(plot_complex_time(\n",
    "        data=real_raw_data[i], \n",
    "        n=number_samples,\n",
    "        title=''.join(['Time Domain Plot of ADC Channel ', str(i), ' Before Downconversion'])))\n",
    "    \n",
    "# plot ADC real and imaginary time domain data\n",
    "ipw.VBox(figs)\n",
    "\n",
    "# THESE SHOULD LOOK LIKE THE MODULATED WAVES"
   ]
  },
  {
   "cell_type": "code",
   "execution_count": 8,
   "id": "28acdb12-be1a-480e-860f-4cc88d21a5db",
   "metadata": {},
   "outputs": [
    {
     "data": {
      "application/vnd.jupyter.widget-view+json": {
       "model_id": "6fb471849df7427f9dd9969f43f0dbe2",
       "version_major": 2,
       "version_minor": 0
      },
      "text/plain": [
       "VBox(children=(FigureWidget({\n",
       "    'data': [{'name': 'Spectrum',\n",
       "              'type': 'scatter',\n",
       "             …"
      ]
     },
     "metadata": {},
     "output_type": "display_data"
    }
   ],
   "source": [
    "from rfsystem.spectrum_sweep import SpectrumAnalyser\n",
    "\n",
    "analysers = []\n",
    "#for i in range(0, len(base.radio.receiver.channel)): # Show all plots\n",
    "for i in range(0, ADC_CHANNEL_D+1): # Show only ADC D\n",
    "    analysers.append(\n",
    "        SpectrumAnalyser(channel = base.radio.receiver.channel[i],\n",
    "                         sample_frequency = sample_frequency,\n",
    "                         number_samples = number_samples,\n",
    "                         title = ''.join(['Spectrum Analyser Channel ',\n",
    "                                          str(i)]),\n",
    "                         height = None,\n",
    "                         width = None))\n",
    "\n",
    "ipw.VBox([analyser.spectrum_plot.get_plot() for analyser in analysers])"
   ]
  },
  {
   "cell_type": "code",
   "execution_count": 9,
   "id": "de540204-6a22-40a8-af44-77f88bccc92d",
   "metadata": {},
   "outputs": [],
   "source": [
    "import time\n",
    "\n",
    "for i in range(0, 20):\n",
    "    for analyser in analysers:\n",
    "        analyser.update_spectrum()\n",
    "    time.sleep(0.2)"
   ]
  },
  {
   "cell_type": "code",
   "execution_count": 10,
   "id": "3163c0ee-07f0-4920-9b14-bef515f633f9",
   "metadata": {},
   "outputs": [],
   "source": [
    "# base.radio.receiver.channel[ADC_CHANNEL_D].adc_block.MixerSettings['MixerMode'] = 3 # 3 is default (real to complex), 1 does something, nothing else valid\n",
    "# base.radio.receiver.channel[ADC_CHANNEL_D].adc_block.MixerSettings['MixerType'] = 1 # With the carrier we want fine(2). w/o we want coarse (1) 2 is default, 1 is coarse?\n",
    "# base.radio.receiver.channel[ADC_CHANNEL_D].adc_block.MixerSettings['PhaseOffset'] = 0.0 # Use if result is noisy or slightly off\n",
    "\n",
    "base.radio.receiver.channel[ADC_CHANNEL_D].adc_block.MixerSettings = {\n",
    "    'CoarseMixFreq':  xrfdc.COARSE_MIX_SAMPLE_FREQ_BY_FOUR,\n",
    "    'EventSource':    xrfdc.EVNT_SRC_TILE, \n",
    "    'FineMixerScale': xrfdc.MIXER_SCALE_1P0,\n",
    "    'Freq':           0.0,\n",
    "    'MixerMode':      xrfdc.MIXER_MODE_R2C,\n",
    "    'MixerType':      xrfdc.MIXER_TYPE_COARSE,\n",
    "    'PhaseOffset':    0.0\n",
    "}\n",
    "#print(base.radio.receiver.channel[ADC_CHANNEL_D].adc_block.MixerSettings)\n",
    "#print(base.radio.receiver.channel[ADC_CHANNEL_D].adc_block.NyquistZone)\n",
    "#base.radio.receiver.channel[ADC_CHANNEL_D].adc_block.UpdateEvent(xrfdc.EVENT_MIXER)"
   ]
  },
  {
   "cell_type": "raw",
   "id": "11367756-18dc-4f1c-a4da-90c9c276fd3f",
   "metadata": {},
   "source": [
    "dac.MixerSettings = {\n",
    "    'CoarseMixFreq':  xrfdc.COARSE_MIX_BYPASS,\n",
    "    'EventSource':    xrfdc.EVNT_SRC_SYSREF, \n",
    "    'FineMixerScale': xrfdc.MIXER_SCALE_1P0,\n",
    "    'Freq':           freq,\n",
    "    'MixerMode':      xrfdc.MIXER_MODE_C2R,\n",
    "    'MixerType':      xrfdc.MIXER_TYPE_COARSE,\n",
    "    'PhaseOffset':    0.0\n",
    "}"
   ]
  },
  {
   "cell_type": "code",
   "execution_count": 11,
   "id": "08b5356f-653b-4167-887c-f61639d41597",
   "metadata": {},
   "outputs": [
    {
     "name": "stdout",
     "output_type": "stream",
     "text": [
      "ADC MixerSettings:  dict_keys(['Freq', 'PhaseOffset', 'EventSource', 'CoarseMixFreq', 'MixerMode', 'FineMixerScale', 'MixerType'])\n",
      "ADC MixerSettings:  {'Freq': 0.0, 'PhaseOffset': 0.0, 'EventSource': 2, 'CoarseMixFreq': 4, 'MixerMode': 3, 'FineMixerScale': 1, 'MixerType': 1}\n"
     ]
    }
   ],
   "source": [
    "# View configurable settings of ADCs\n",
    "print(\"ADC MixerSettings: \", base.radio.receiver.channel[0].adc_block.MixerSettings.keys())\n",
    "#help(base.radio.receiver.channel[0].adc_tile)\n",
    "#help(base.radio.receiver.channel[0].adc_block)\n",
    "print(\"ADC MixerSettings: \", base.radio.receiver.channel[ADC_CHANNEL_D].adc_block.MixerSettings)\n",
    "# print(xrfdc.MIXER_MODE_R2C)\n",
    "# print(xrfdc.MIXER_TYPE_COARSE)\n",
    "# print(xrfdc.MIXER_TYPE_FINE)\n",
    "# print(xrfdc.RFdcAdcBlock.DecimationFactor)\n",
    "# print(xrfdc.RFdcAdcTile.PLLConfig)\n",
    "# print(xrfdc.RFdcAdcTile.ClockSource)\n",
    "# print(xrfdc.RFdc.read(base.radio/rfdc))"
   ]
  },
  {
   "cell_type": "code",
   "execution_count": 12,
   "id": "06f44535-65d5-4cfb-9987-4e66455dda64",
   "metadata": {},
   "outputs": [],
   "source": [
    "# Sample\n",
    "raw_data = []  # Storage for incoming I and Q data\n",
    "#for i in range(0, len(base.radio.receiver.channel)): # Show all plots\n",
    "for i in range(0, ADC_CHANNEL_D+1): # Show only ADC D\n",
    "    raw_data.append(base.radio.receiver.channel[i].transfer(number_samples))\n",
    "#print(raw_data[ADC_CHANNEL_D])\n",
    "#print(\"raw_data: \", raw_data[ADC_CHANNEL_D])\n",
    "#print(\"number_samples: \", number_samples)"
   ]
  },
  {
   "cell_type": "code",
   "execution_count": 14,
   "id": "6c500f53-6fde-4e9e-9da5-293694f3ae43",
   "metadata": {
    "tags": []
   },
   "outputs": [
    {
     "data": {
      "application/vnd.jupyter.widget-view+json": {
       "model_id": "a8c6d36f429040cd90a87ddbe82c4298",
       "version_major": 2,
       "version_minor": 0
      },
      "text/plain": [
       "VBox(children=(FigureWidget({\n",
       "    'data': [{'name': 'Real',\n",
       "              'type': 'scatter',\n",
       "              'ui…"
      ]
     },
     "metadata": {},
     "output_type": "display_data"
    }
   ],
   "source": [
    "# Plotting raw data in the time domain\n",
    "figs = [] # Storage for ADC time domain plots\n",
    "\n",
    "# Add plots to figs\n",
    "#for i in range(0, len(base.radio.receiver.channel)): # Show all plots\n",
    "for i in range(0, ADC_CHANNEL_D+1): # Show only ADC D\n",
    "    figs.append(plot_complex_time(\n",
    "        data=raw_data[i], \n",
    "        n=number_samples,\n",
    "        title=''.join(['Time Domain Plot of ADC Channel ', str(i), ' Before Downconversion'])))\n",
    "    \n",
    "# plot ADC real and imaginary time domain data\n",
    "ipw.VBox(figs)\n",
    "\n",
    "# THESE SHOULD LOOK LIKE THE MODULATED WAVES"
   ]
  },
  {
   "cell_type": "raw",
   "id": "47e27d3e-29ac-4d29-a3de-8201cdfe72bd",
   "metadata": {
    "tags": []
   },
   "source": [
    "# Animate time domain plot\n",
    "import time\n",
    "\n",
    "figs = [] # Storage for ADC time domain plots\n",
    "number_animations = 20\n",
    "\n",
    "# Add plots to figs\n",
    "#for i in range(0, len(base.radio.receiver.channel)): # Show all plots\n",
    "for i in range(0, number_animations): # Show only ADC D\n",
    "    #for i in range(0, len(base.radio.receiver.channel)): # Show all plots\n",
    "    for i in range(0, ADC_CHANNEL_D+1): # Show only ADC D\n",
    "        raw_data.append(base.radio.receiver.channel[i].transfer(number_samples))\n",
    "        figs.append(plot_complex_time(\n",
    "            data=raw_data[i], \n",
    "            n=number_samples,\n",
    "            title=''.join(['Time Domain Plot of ADC Channel ', str(i), ' Before Downconversion'])))\n",
    "    # plot ADC real and imaginary time domain data\n",
    "    ipw.VBox(figs)\n",
    "    time.sleep(.2)"
   ]
  },
  {
   "cell_type": "code",
   "execution_count": 15,
   "id": "eed1b99d-8698-4946-872e-dcbad1a72b8b",
   "metadata": {
    "tags": []
   },
   "outputs": [
    {
     "data": {
      "application/vnd.jupyter.widget-view+json": {
       "model_id": "13f9cf2501864f73bd1b827cdf0278b9",
       "version_major": 2,
       "version_minor": 0
      },
      "text/plain": [
       "VBox(children=(FigureWidget({\n",
       "    'data': [{'name': 'Spectrum',\n",
       "              'type': 'scatter',\n",
       "             …"
      ]
     },
     "metadata": {},
     "output_type": "display_data"
    }
   ],
   "source": [
    "from rfsystem.spectrum_sweep import SpectrumAnalyser\n",
    "\n",
    "analysers = []\n",
    "#for i in range(0, len(base.radio.receiver.channel)): # Show all plots\n",
    "for i in range(0, ADC_CHANNEL_D+1): # Show only ADC D\n",
    "    analysers.append(\n",
    "        SpectrumAnalyser(channel = base.radio.receiver.channel[i],\n",
    "                         sample_frequency = sample_frequency,\n",
    "                         number_samples = number_samples,\n",
    "                         title = ''.join(['Spectrum Analyser Channel ',\n",
    "                                          str(i)]),\n",
    "                         height = None,\n",
    "                         width = None))\n",
    "\n",
    "ipw.VBox([analyser.spectrum_plot.get_plot() for analyser in analysers])\n"
   ]
  },
  {
   "cell_type": "code",
   "execution_count": 16,
   "id": "64e8f197-4084-4695-a281-55087d7f8247",
   "metadata": {
    "tags": []
   },
   "outputs": [],
   "source": [
    "import time\n",
    "\n",
    "for i in range(0, 20):\n",
    "    for analyser in analysers:\n",
    "        analyser.update_spectrum()\n",
    "    time.sleep(0.2)"
   ]
  },
  {
   "cell_type": "code",
   "execution_count": 18,
   "id": "69295d86-a704-40ad-bdbb-af4a443394ef",
   "metadata": {
    "tags": []
   },
   "outputs": [],
   "source": [
    "# Downconvert\n",
    "downconverted_data = []  # Storage for downconverted data\n",
    "#for i in range(0, len(base.radio.receiver.channel)): # Show all plots\n",
    "for i in range(0, ADC_CHANNEL_D+1): # Show only ADC D\n",
    "    downconverted_data.append(signal.decimate(raw_data[i], downsample_factor))\n",
    "number_samples = int(number_samples / downsample_factor) # Updating number of samples\n",
    "sample_frequency = sample_frequency/downsample_factor # Downsampled signal has new step_size, this will result in accurate plotting of the data\n",
    "\n",
    "# print(\"downconverted_data: \",downconverted_data[ADC_CHANNEL_D])\n",
    "# print(\"number_samples: \", number_samples)"
   ]
  },
  {
   "cell_type": "code",
   "execution_count": 19,
   "id": "1bb549b6-d4c0-43a5-b95a-5869c4584313",
   "metadata": {
    "tags": []
   },
   "outputs": [
    {
     "data": {
      "application/vnd.jupyter.widget-view+json": {
       "model_id": "4c0e4f0fbff84231af61082f76ac63c8",
       "version_major": 2,
       "version_minor": 0
      },
      "text/plain": [
       "VBox(children=(FigureWidget({\n",
       "    'data': [{'name': 'Real',\n",
       "              'type': 'scatter',\n",
       "              'ui…"
      ]
     },
     "metadata": {},
     "output_type": "display_data"
    }
   ],
   "source": [
    "# Plotting downconverted data in the time domain\n",
    "figs = [] # Storage for ADC time domain plots\n",
    "\n",
    "#for i in range(0, len(base.radio.receiver.channel)): # Show all plots\n",
    "for i in range(0, ADC_CHANNEL_D+1): # Show only ADC D\n",
    "    figs.append(plot_complex_time(\n",
    "        data=downconverted_data[i],\n",
    "        n=number_samples,\n",
    "        title=''.join(['Time Domain Plot of ADC Channel ', str(i), ' After Downconversion'])))\n",
    "    \n",
    "# plot ADC real and imaginary time domain data\n",
    "ipw.VBox(figs) # Only show ADC D "
   ]
  },
  {
   "cell_type": "raw",
   "id": "17cbeecb-ff4c-4ee9-aac9-a12f734888fe",
   "metadata": {
    "jupyter": {
     "source_hidden": true
    },
    "tags": []
   },
   "source": [
    "CARRIER DEMODULATION THINGS TO FIGURE OUT\n",
    "1. Are we correctly demodulating our carrier signal by mixing it with our center frequency?\n",
    "\n",
    "Answer: There are multiple ways to mod/demod a carrier frequency (AM or QAM). We need to figure out which one the HackRF is using and then make sure we do the same for demod. I'm guessing the demod scheme can by configuring one or both of the following:\n",
    "\n",
    "    base.radio.receiver.channel[ADC_CHANNEL_D].adc_block.MixerSettings['MixerMode']) = 3\n",
    "    base.radio.receiver.channel[ADC_CHANNEL_D].adc_block.MixerSettings['MixerType']) = 2\n",
    "    \n",
    "The above settings correspond to QAM so if the HackRF is indeed performing QAM, we don't need to tweak this.\n",
    "\n",
    "2. Do we need to filter after downconverting?\n",
    "\n",
    "Answer: Yes, an 'image' will be seen at a higher frequency than our baseband signal that needs to be removed. We should look into using the following code for this:\n",
    "    \n",
    "    filtered_signal = np.convolve(downconverted_signal, np.ones(int(sample_frequency * T))/sample_frequency, mode='valid')\n",
    "    \n",
    "Other notes:\n",
    "1. PhaseOffset may need to be adjusted if the output is off (this is caused by a phase shift in the NCO during carrier demodulation):\n",
    "\n",
    "    base.radio.receiver.channel[ADC_CHANNEL_D].adc_block.MixerSettings['MixerType']) = 2\n",
    "    \n",
    "2. If the default sample frequency of the board is not 2457.6e6 Hz like it seems, we need to figure out what it is and potentially use a lower carrier frequency for demo. OR figure out a way to change it which it seems like there is not.\n",
    "    \n",
    "QPSK THINGS TO FIGURE OUT\n",
    "1. What encoding scheme was used to convert the binary in the rtf file? Or was that binary sequence directly modulated?\n",
    "Answer: Need to ask Gabe still unsure...\n",
    "2. How do we figure out what to set the below parameters to? Related to modulation scheme? Dependent on the baseband of our signal?\n",
    "Answer: We need to know if this line in the \n"
   ]
  },
  {
   "cell_type": "code",
   "execution_count": 20,
   "id": "eaeddc79-a5d5-42db-b132-43f26bd64b3e",
   "metadata": {},
   "outputs": [],
   "source": [
    "# Parameters - NEED TO CHECK ON ALL OF THESE, HOW DO WE MATCH TO OUR BASEBAND SIGNAL?\n",
    "# bit rate \n",
    "# HackRF parameters: Sample Rate = 4 MHz, Symbol Rate = 1 MHz, Interpolation = 2 MHz, Decimation/Sample Rate = 48 kHz\n",
    "br = 50000  # Is this set to sample_frequency? \n",
    "\n",
    "# carrier frequency\n",
    "f = br      # Is this set to center_frequency?\n",
    "# bit duration\n",
    "T = 1/br    # What is this?\n"
   ]
  },
  {
   "cell_type": "raw",
   "id": "ecac52b5-0410-49c0-981f-14c53d1f5bc8",
   "metadata": {
    "jupyter": {
     "source_hidden": true
    },
    "tags": []
   },
   "source": [
    "# NEW APPROACH NOT WORKING!!!\n",
    "# Demodulate using in phase and quadrature data from ADC D\n",
    "Rx_data = np.array([])\n",
    "\n",
    "# Time vector for one bit information THIS NEEDS TO BE SYNCED\n",
    "t = np.arange(0, T * (len(downconverted_data[ADC_CHANNEL_D])//2), T/99)\n",
    "\n",
    "# I think we need to recombine the In-phase and Quadrature data into one signal and then do the below code\n",
    "\n",
    "for i in range(len(downconverted_data[ADC_CHANNEL_D])//2):\n",
    "    # Inphase coherent detector\n",
    "    # THIS NEEDS WORK\n",
    "    Z_in = downconverted_data[ADC_CHANNEL_D][i*99:(i+1)*99] * np.cos(2 * np.pi * f * t[i*99:(i+1)*99])\n",
    "    Z_in_intg = np.trapz(Z_in) * (2 / T) # Finding average value?\n",
    "    #print(Z_in_intg)\n",
    "    if Z_in_intg > 0:\n",
    "        Rx_in_data = 1\n",
    "    else:\n",
    "        Rx_in_data = 0\n",
    "\n",
    "    # Quadrature coherent detector\n",
    "    # THIS ALSO NEEDS WORK\n",
    "    Z_in = downconverted_data[ADC_CHANNEL_D][i*99:(i+1)*99] * np.sin(2 * np.pi * f * t[i*99:(i+1)*99])\n",
    "    Z_qd_intg = np.trapz(Z_qd) * (2 / T) # Finding average value?\n",
    "    #print(Z_qd_intg)\n",
    "    if Z_qd_intg > 0:\n",
    "        Rx_qd_data = 1\n",
    "    else:\n",
    "        Rx_qd_data = 0\n",
    "    Rx_data = np.append(Rx_data, [Rx_in_data, Rx_qd_data])\n",
    "\n",
    "# print(\"Z_in: \", Z_in)\n",
    "# print(\"Z_qd: \", Z_qd)\n",
    "# print(\"length of Z_in: \", len(Z_in))\n",
    "# print(\"Rx_in_data: \", Rx_in_data)\n",
    "# print(\"length of Z_qd: \", len(Z_qd))\n",
    "# print(\"Rx_qd_data: \", Rx_qd_data)\n",
    "# print(\"length of Rx_data: \", len(Rx_data))\n",
    "# print(\"Rx_data: \", Rx_data)\n",
    "# print(\"length of downconverted_data[ADC_CHANNEL_D]: \", len(downconverted_data[ADC_CHANNEL_D]))\n"
   ]
  },
  {
   "cell_type": "code",
   "execution_count": 21,
   "id": "d9227101-ac1a-4671-9d9b-e151481c3c50",
   "metadata": {
    "tags": []
   },
   "outputs": [],
   "source": [
    "# PREVIOUS \"WORKING\" IMPLEMENTATION\n",
    "\n",
    "# Demodulate using in phase and quadrature data from ADC D\n",
    "Rx_data = np.array([])\n",
    "Rx_in_data = np.array([])\n",
    "Rx_qd_data = np.array([])\n",
    "Z_in = np.array([])\n",
    "Z_qd = np.array([])\n",
    "\n",
    "\n",
    "\n",
    "for i in range(len(downconverted_data[ADC_CHANNEL_D])//2):\n",
    "    # Inphase coherent detector\n",
    "    Z_in = np.append(Z_in, downconverted_data[ADC_CHANNEL_D].real[i*99:(i+1)*99])\n",
    "    Z_in_intg = np.trapz(Z_in) * (2 / T) # Finding average value?\n",
    "    #print(Z_in_intg)\n",
    "    if Z_in_intg > 0:\n",
    "        Rx_in_data = np.append(Rx_in_data, 1)\n",
    "    else:\n",
    "        Rx_in_data = np.append(Rx_in_data, 0)\n",
    "\n",
    "    # Quadrature coherent detector\n",
    "    Z_qd = np.append(Z_qd, downconverted_data[ADC_CHANNEL_D].imag[i*99:(i+1)*99])\n",
    "    Z_qd_intg = np.trapz(Z_qd) * (2 / T) # Finding average value?\n",
    "    #print(Z_qd_intg)\n",
    "    if Z_qd_intg > 0:\n",
    "        Rx_qd_data = np.append(Rx_qd_data, 1)\n",
    "    else:\n",
    "        Rx_qd_data = np.append(Rx_qd_data, 0)\n",
    "    Rx_data = np.append(Rx_data, [Rx_in_data[i], Rx_qd_data[i]])\n",
    "\n",
    "#print(\"Z_in: \", Z_in)\n",
    "# print(\"Z_qd: \", Z_qd)\n",
    "# print(\"length of Z_in: \", len(Z_in))\n",
    "# print(\"Rx_in_data: \", Rx_in_data)\n",
    "# print(\"length of Z_qd: \", len(Z_qd))\n",
    "# print(\"Rx_qd_data: \", Rx_qd_data)\n",
    "# print(\"length of Rx_data: \", len(Rx_data))\n",
    "# print(\"Rx_data: \", Rx_data)\n"
   ]
  },
  {
   "cell_type": "code",
   "execution_count": 22,
   "id": "169712b7-7aa5-4192-944d-cb297bcfeba0",
   "metadata": {
    "tags": []
   },
   "outputs": [
    {
     "data": {
      "application/vnd.jupyter.widget-view+json": {
       "model_id": "dc7cdeaa766e4eabb3fcee45e4465277",
       "version_major": 2,
       "version_minor": 0
      },
      "text/plain": [
       "VBox(children=(FigureWidget({\n",
       "    'data': [{'type': 'scatter',\n",
       "              'uid': 'e8131104-477a-48bc-9e94-8…"
      ]
     },
     "metadata": {},
     "output_type": "display_data"
    }
   ],
   "source": [
    "# Try to plot received In phase and Quadrature Data\n",
    "figs = [] # Storage for ADC time domain plots\n",
    "\n",
    "#for i in range(0, len(base.radio.receiver.channel)): # Show all plots\n",
    "for i in range(0, ADC_CHANNEL_D+1): # Show only ADC D\n",
    "    figs.append(plot_time(\n",
    "        data=Z_in,\n",
    "        n=number_samples,\n",
    "        title=''.join(['Time Domain Plot of ADC Channel In Phase Data ', str(i)])))\n",
    "    \n",
    "#for i in range(0, len(base.radio.receiver.channel)): # Show all plots\n",
    "for i in range(0, ADC_CHANNEL_D+1): # Show only ADC D\n",
    "    figs.append(plot_time(\n",
    "        data=Z_qd,\n",
    "        n=number_samples,\n",
    "        title=''.join(['Time Domain Plot of ADC Channel Quadrature Data ', str(i)])))\n",
    "    \n",
    "#for i in range(0, len(base.radio.receiver.channel)): # Show all plots\n",
    "for i in range(0, ADC_CHANNEL_D+1): # Show only ADC D\n",
    "    figs.append(plot_time(\n",
    "        data=Z_in+Z_qd,\n",
    "        n=number_samples,\n",
    "        title=''.join(['Time Domain Plot of ADC Channel Sum of Z_in and Z_qd ', str(i)])))\n",
    "    \n",
    "# Show plots\n",
    "ipw.VBox(figs)"
   ]
  },
  {
   "cell_type": "code",
   "execution_count": 23,
   "id": "6fa0b838-d985-4011-b745-598db9c50e9f",
   "metadata": {
    "jupyter": {
     "source_hidden": true
    },
    "tags": []
   },
   "outputs": [],
   "source": [
    "# Plotting received data\n",
    "# tt = np.arange(0, T*(len(Z_in)/2), T/99)\n",
    "\n",
    "# plt.figure(figsize=(10, 8))\n",
    "\n",
    "# Calculate magnitude of downconverted_data\n",
    "# incoming_modulated_signal = []\n",
    "# i = 0\n",
    "# while i < len(downconverted_data[ADC_CHANNEL_D]):\n",
    "#     incoming_modulated_signal.append(np.sqrt((downconverted_data[ADC_CHANNEL_D][i].real**2)+(downconverted_data[ADC_CHANNEL_D][i].imag**2)))\n",
    "#     i += 2\n",
    "\n",
    "\n",
    "# Modulated signal at baseband premodulation\n",
    "# plt.subplot(3, 1, 1)\n",
    "# plt.plot(tt, incoming_modulated_signal, 'r', linewidth=3)\n",
    "# plt.grid(True)\n",
    "# plt.title('QPSK modulated signal (sum of inphase and quadrature phase signal)')\n",
    "# plt.xlabel('Time (sec)')\n",
    "# plt.ylabel('Amplitude (volt)')\n",
    "\n",
    "# In Phase Data\n",
    "# plt.subplot(3, 1, 2)\n",
    "# plt.plot(tt, Z_in, linewidth=3)\n",
    "# plt.grid(True)\n",
    "# plt.title('Waveform for In phase component in QPSK modulation')\n",
    "# plt.xlabel('Time (sec)')\n",
    "# plt.ylabel('Amplitude (volt)')\n",
    "\n",
    "# Quadrature Data\n",
    "# plt.subplot(3, 1, 3)\n",
    "# plt.plot(tt, Z_qd, linewidth=3)\n",
    "# plt.grid(True)\n",
    "# plt.title('Waveform for Quadrature component in QPSK modulation')\n",
    "# plt.xlabel('Time (sec)')\n",
    "# plt.ylabel('Amplitude (volt)')"
   ]
  },
  {
   "cell_type": "code",
   "execution_count": 29,
   "id": "74bd5320-02bd-426c-876d-1a8c57062141",
   "metadata": {},
   "outputs": [
    {
     "data": {
      "image/png": "[encoded data removed]",
      "text/plain": [
       "<Figure size 432x288 with 1 Axes>"
      ]
     },
     "metadata": {
      "needs_background": "light"
     },
     "output_type": "display_data"
    },
    {
     "name": "stdout",
     "output_type": "stream",
     "text": [
      "Received binary:  [1. 0. 1. ... 0. 1. 0.]\n",
      "actual_word:  [1. 0. 1. 0. 1. 0. 1. 1. 1. 1. 1. 1. 1. 1. 1. 1. 1. 1. 1. 1. 0. 1. 1. 1.\n",
      " 1. 0. 1. 0. 1. 0. 1. 1. 1. 1. 1. 1. 1. 1. 1. 1. 0. 1. 0. 1. 0. 1. 1. 0.\n",
      " 1. 0. 1. 1. 1. 1. 1. 1. 1. 1. 1. 1. 1. 1. 1. 1. 1. 1. 1. 1. 1. 1. 1. 1.\n",
      " 1. 1. 1. 1. 1. 0. 1. 0. 1. 1. 1. 1. 1. 1. 1. 1. 1. 1. 1. 1. 0. 1. 0. 1.\n",
      " 1. 0. 1. 0. 1. 0. 1. 0. 1. 1. 1. 1. 1. 1. 1. 1. 1. 1. 1. 1. 0. 1. 0. 1.\n",
      " 1. 0. 1. 0. 1. 0. 1. 0. 1. 1. 1. 1. 1. 1. 1. 1. 1. 1. 0. 1. 0. 1. 1. 0.\n",
      " 1. 0. 1. 0. 1. 1. 1. 1. 1. 1. 1. 1. 1. 1. 1. 1. 1. 1. 1. 1. 1. 1. 1. 1.\n",
      " 1. 1. 1. 1. 1. 1. 1. 0. 1. 0. 1. 1. 1. 1. 1. 1. 1.]\n",
      "Bit Error Rate: 51.35135135135135%\n",
      "Received integer:  32948629785450476153064626079625015843581846562193538431\n",
      "rec_bytes_representation:  b'\\x01W\\xff\\xefW\\xfe\\xad\\x7f\\xff\\xff\\xf5\\xff\\xebU\\xff\\xebU\\xff\\xad_\\xff\\xff\\xfd\\x7f'\n"
     ]
    }
   ],
   "source": [
    "# Plot binary\n",
    "plt.figure()\n",
    "plt.stem(range(len(Rx_data)), Rx_data, linefmt='r-', markerfmt='ro')\n",
    "plt.title('Information after Receiving')\n",
    "plt.axis([-.5, len(Rx_data) + .5, 0, 1.5])\n",
    "plt.grid(True)\n",
    "plt.show()\n",
    "\n",
    "print(\"Received binary: \", Rx_data)\n",
    "number_bytes = 23\n",
    "original_message_length = number_bytes*8\n",
    "actual_word = np.array([])\n",
    "for i in range(0, original_message_length+1):\n",
    "    actual_word = np.append(actual_word, Rx_data[i])\n",
    "print(\"actual_word: \", actual_word)\n",
    "expected_word = '011010000110010101101100011011000110111100100000011001110111001001101111011011110111011001101001011011100110011100100000011100110110100001110010011001010110010001100100011001010111001001110011'\n",
    "test_actual = ''\n",
    "\n",
    "for i in actual_word:\n",
    "    test_actual += str(int(i))\n",
    "\n",
    "wrong = 0\n",
    "for i in range(0, len(test_actual)):\n",
    "    if test_actual[i] != expected_word[i]:\n",
    "        wrong += 1\n",
    "    \n",
    "bit_error_rate = 100 * (wrong / len(test_actual))\n",
    "print(\"Bit Error Rate: \" + str(bit_error_rate) + \"%\")\n",
    "\n",
    "# Actual Message:\n",
    "# 01101000 01100101 01101100 01101100 01101111 00100000 01100111 01110010 01101111 01101111 01110110 01101001 01101110 01100111 00100000 01110011 01101000 01110010 01100101 01100100 01100100 01100101 01110010 01110011\n",
    "# Received:\n",
    "# 01010100 00011100 00011100 01010100 01011100 01011100 01011000 \n",
    "# 01111101 01111000 01111001 01111001 01110001 11111001 11110001\n",
    "# 11110001 11110101 11100001 11100111 11110111 11100111 11011111\n",
    "# 11001111 0101111\n",
    "\n",
    "# Expected\n",
    "# Convert binary to integer\n",
    "received_integer = binary_array_to_int(actual_word.astype(int))\n",
    "print(\"Received integer: \", received_integer)\n",
    "\n",
    "# Convert integer to bytes\n",
    "rec_bytes_representation = received_integer.to_bytes((received_integer.bit_length() + 7) // 8, byteorder='big')\n",
    "print(\"rec_bytes_representation: \", rec_bytes_representation)\n",
    "\n",
    "# Decode bytes back to string NOT WORKING\n",
    "# decoded_string = rec_bytes_representation.decode('ascii') # WHAT ENCODING SCHEME DID WE USE?\n",
    "# print(\"Received Word: \", decoded_string)\n",
    "\n",
    "# # Convert binary to integer\n",
    "# received_integer = binary_array_to_int(Rx_data.astype(int))\n",
    "# print(\"Received integer: \", received_integer)\n",
    "\n",
    "# # Convert integer to bytes\n",
    "# rec_bytes_representation = received_integer.to_bytes((received_integer.bit_length() + 7) // 8, byteorder='big')\n",
    "# print(\"rec_bytes_representation: \", rec_bytes_representation)\n",
    "\n",
    "# # Decode bytes back to string\n",
    "# decoded_string = rec_bytes_representation.decode('ascii') # WHAT ENCODING SCHEME DID WE USE?\n",
    "# print(\"Received Word: \", decoded_string)\n"
   ]
  },
  {
   "cell_type": "code",
   "execution_count": 18,
   "id": "d9f8e154-1962-459d-9246-8f9ad7e9050d",
   "metadata": {
    "collapsed": true,
    "jupyter": {
     "outputs_hidden": true,
     "source_hidden": true
    },
    "tags": []
   },
   "outputs": [
    {
     "ename": "NameError",
     "evalue": "name 'cdata' is not defined",
     "output_type": "error",
     "traceback": [
      "\u001b[0;31m---------------------------------------------------------------------------\u001b[0m",
      "\u001b[0;31mNameError\u001b[0m                                 Traceback (most recent call last)",
      "Input \u001b[0;32mIn [18]\u001b[0m, in \u001b[0;36m<cell line: 11>\u001b[0;34m()\u001b[0m\n\u001b[1;32m      9\u001b[0m wdata \u001b[38;5;241m=\u001b[39m []\n\u001b[1;32m     10\u001b[0m wfigs \u001b[38;5;241m=\u001b[39m []\n\u001b[0;32m---> 11\u001b[0m wdata\u001b[38;5;241m.\u001b[39mappend(\u001b[43mcdata\u001b[49m[\u001b[38;5;241m0\u001b[39m]\u001b[38;5;241m*\u001b[39mwindow)\n",
      "\u001b[0;31mNameError\u001b[0m: name 'cdata' is not defined"
     ]
    }
   ],
   "source": [
    "window = np.array(np.blackman(number_samples)[:])\n",
    "# print(\"window:\", window)\n",
    "# print(\"cdata:\", cdata[0])\n",
    "\n",
    "# downsample_window = np.array(np.blackman(number_samples/downsample_factor)[:])\n",
    "# print(\"window:\", window)\n",
    "# print(\"cdata:\", cdata[0])\n",
    "\n",
    "wdata = []\n",
    "wfigs = []\n",
    "wdata.append(cdata[0]*window)\n",
    "# print(\"wdata:\", wdata[0])\n",
    "# wfigs.append(plot_complex_time(\n",
    "#         data=wdata[0], \n",
    "#         title=''.join(['Windowed Plot of ADC Channel ', str(2), ' Before Downconversion'])))\n",
    "\n",
    "# wdata.append(downsampled_signal*downsample_window)\n",
    "# wfigs.append(plot_complex_time(\n",
    "#         data=wdata[1], \n",
    "#         title=''.join(['Windowed Plot of ADC Channel ', str(2), ' After Downconversion'])))\n",
    "\n",
    "# ipw.VBox(wfigs)"
   ]
  },
  {
   "cell_type": "code",
   "execution_count": null,
   "id": "ec63b63b-c872-4a1e-a4c6-6f6c0fd9262c",
   "metadata": {
    "jupyter": {
     "source_hidden": true
    },
    "tags": []
   },
   "outputs": [],
   "source": [
    "fdata = []\n",
    "for i in range(0, len(wdata)):\n",
    "    fdata.append(np.fft.fftshift(np.fft.fft(wdata[i])))"
   ]
  },
  {
   "cell_type": "code",
   "execution_count": null,
   "id": "f7a2584d-3116-42ba-9fd4-ee312577d59a",
   "metadata": {
    "jupyter": {
     "source_hidden": true
    },
    "tags": []
   },
   "outputs": [],
   "source": [
    "def plot_complex_spectrum(data, N=number_samples, fs=sample_frequency, \n",
    "                          title='Complex Spectrum Plot', units='dBW', fc=0):\n",
    "    plt_temp = (go.Scatter(x = np.arange(-fs/2, fs/2, fs/N) + fc,\n",
    "                           y = data, name='Spectrum'))\n",
    "    return go.FigureWidget(data = plt_temp,\n",
    "                           layout = {'title': title, \n",
    "                                     'xaxis': {\n",
    "                                         'title': 'Frequency (Hz)',\n",
    "                                         'autorange': True},\n",
    "                                     'yaxis': {\n",
    "                                         'title': units}})\n",
    "\n",
    "magfigs = []\n",
    "for i in range(0, len(fdata)):\n",
    "    magfigs.append(plot_complex_spectrum(\n",
    "            data=abs(fdata[i]),\n",
    "            title=''.join(['Frequency Magnitude Plot of ADC Channel ', str(i)]),\n",
    "            units='|Y(f)|',\n",
    "            fc=round(abs(base.radio.receiver.channel[i].adc_block.MixerSettings['Freq']))*1e6))\n",
    "\n",
    "ipw.VBox(magfigs)"
   ]
  },
  {
   "cell_type": "code",
   "execution_count": null,
   "id": "05ab574f-f988-4480-854f-d2cf367191ba",
   "metadata": {},
   "outputs": [],
   "source": []
  },
  {
   "cell_type": "code",
   "execution_count": null,
   "id": "407a4a95-b551-46aa-bf39-2773fb3cc869",
   "metadata": {},
   "outputs": [],
   "source": []
  },
  {
   "cell_type": "code",
   "execution_count": null,
   "id": "8108b87d-9bf7-435e-8eef-fbcec0cfb185",
   "metadata": {},
   "outputs": [],
   "source": []
  }
 ],
 "metadata": {
  "kernelspec": {
   "display_name": "Python 3 (ipykernel)",
   "language": "python",
   "name": "python3"
  },
  "language_info": {
   "codemirror_mode": {
    "name": "ipython",
    "version": 3
   },
   "file_extension": ".py",
   "mimetype": "text/x-python",
   "name": "python",
   "nbconvert_exporter": "python",
   "pygments_lexer": "ipython3",
   "version": "3.10.4"
  }
 },
 "nbformat": 4,
 "nbformat_minor": 5
}
